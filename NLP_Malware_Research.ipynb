{
  "nbformat": 4,
  "nbformat_minor": 0,
  "metadata": {
    "colab": {
      "provenance": [],
      "machine_shape": "hm",
      "gpuType": "T4",
      "authorship_tag": "ABX9TyP8Gs2MjOa7m/w6pBlaYryw",
      "include_colab_link": true
    },
    "kernelspec": {
      "name": "python3",
      "display_name": "Python 3"
    },
    "language_info": {
      "name": "python"
    },
    "accelerator": "GPU"
  },
  "cells": [
    {
      "cell_type": "markdown",
      "metadata": {
        "id": "view-in-github",
        "colab_type": "text"
      },
      "source": [
        "<a href=\"https://colab.research.google.com/github/laresamdeola/Research/blob/main/NLP_Malware_Research.ipynb\" target=\"_parent\"><img src=\"https://colab.research.google.com/assets/colab-badge.svg\" alt=\"Open In Colab\"/></a>"
      ]
    },
    {
      "cell_type": "code",
      "execution_count": 409,
      "metadata": {
        "id": "cJm0edjPzD_P"
      },
      "outputs": [],
      "source": [
        "import numpy as np\n",
        "import pandas as pd\n",
        "import matplotlib.pyplot as plt\n",
        "import nltk"
      ]
    },
    {
      "cell_type": "code",
      "source": [
        "data = pd.read_csv('malicious_phish.csv')"
      ],
      "metadata": {
        "id": "m51jG5GezPNP"
      },
      "execution_count": 410,
      "outputs": []
    },
    {
      "cell_type": "code",
      "source": [
        "len(data)"
      ],
      "metadata": {
        "colab": {
          "base_uri": "https://localhost:8080/"
        },
        "id": "YNheLlksz5Jv",
        "outputId": "6f892b2b-6e09-46b8-fc34-1ac8ca2561c0"
      },
      "execution_count": 411,
      "outputs": [
        {
          "output_type": "execute_result",
          "data": {
            "text/plain": [
              "651191"
            ]
          },
          "metadata": {},
          "execution_count": 411
        }
      ]
    },
    {
      "cell_type": "code",
      "source": [
        "data"
      ],
      "metadata": {
        "colab": {
          "base_uri": "https://localhost:8080/",
          "height": 424
        },
        "id": "q82LtMAkz0oL",
        "outputId": "aa14ea2c-5ff4-48f2-d900-b41480586b41"
      },
      "execution_count": 412,
      "outputs": [
        {
          "output_type": "execute_result",
          "data": {
            "text/plain": [
              "                                                      url        type\n",
              "0                                        br-icloud.com.br    phishing\n",
              "1                     mp3raid.com/music/krizz_kaliko.html      benign\n",
              "2                         bopsecrets.org/rexroth/cr/1.htm      benign\n",
              "3       http://www.garage-pirenne.be/index.php?option=...  defacement\n",
              "4       http://adventure-nicaragua.net/index.php?optio...  defacement\n",
              "...                                                   ...         ...\n",
              "651186            xbox360.ign.com/objects/850/850402.html    phishing\n",
              "651187       games.teamxbox.com/xbox-360/1860/Dead-Space/    phishing\n",
              "651188         www.gamespot.com/xbox360/action/deadspace/    phishing\n",
              "651189      en.wikipedia.org/wiki/Dead_Space_(video_game)    phishing\n",
              "651190          www.angelfire.com/goth/devilmaycrytonite/    phishing\n",
              "\n",
              "[651191 rows x 2 columns]"
            ],
            "text/html": [
              "\n",
              "  <div id=\"df-a8c7eeae-4eca-4b64-a5a4-cb1ebd78cac0\" class=\"colab-df-container\">\n",
              "    <div>\n",
              "<style scoped>\n",
              "    .dataframe tbody tr th:only-of-type {\n",
              "        vertical-align: middle;\n",
              "    }\n",
              "\n",
              "    .dataframe tbody tr th {\n",
              "        vertical-align: top;\n",
              "    }\n",
              "\n",
              "    .dataframe thead th {\n",
              "        text-align: right;\n",
              "    }\n",
              "</style>\n",
              "<table border=\"1\" class=\"dataframe\">\n",
              "  <thead>\n",
              "    <tr style=\"text-align: right;\">\n",
              "      <th></th>\n",
              "      <th>url</th>\n",
              "      <th>type</th>\n",
              "    </tr>\n",
              "  </thead>\n",
              "  <tbody>\n",
              "    <tr>\n",
              "      <th>0</th>\n",
              "      <td>br-icloud.com.br</td>\n",
              "      <td>phishing</td>\n",
              "    </tr>\n",
              "    <tr>\n",
              "      <th>1</th>\n",
              "      <td>mp3raid.com/music/krizz_kaliko.html</td>\n",
              "      <td>benign</td>\n",
              "    </tr>\n",
              "    <tr>\n",
              "      <th>2</th>\n",
              "      <td>bopsecrets.org/rexroth/cr/1.htm</td>\n",
              "      <td>benign</td>\n",
              "    </tr>\n",
              "    <tr>\n",
              "      <th>3</th>\n",
              "      <td>http://www.garage-pirenne.be/index.php?option=...</td>\n",
              "      <td>defacement</td>\n",
              "    </tr>\n",
              "    <tr>\n",
              "      <th>4</th>\n",
              "      <td>http://adventure-nicaragua.net/index.php?optio...</td>\n",
              "      <td>defacement</td>\n",
              "    </tr>\n",
              "    <tr>\n",
              "      <th>...</th>\n",
              "      <td>...</td>\n",
              "      <td>...</td>\n",
              "    </tr>\n",
              "    <tr>\n",
              "      <th>651186</th>\n",
              "      <td>xbox360.ign.com/objects/850/850402.html</td>\n",
              "      <td>phishing</td>\n",
              "    </tr>\n",
              "    <tr>\n",
              "      <th>651187</th>\n",
              "      <td>games.teamxbox.com/xbox-360/1860/Dead-Space/</td>\n",
              "      <td>phishing</td>\n",
              "    </tr>\n",
              "    <tr>\n",
              "      <th>651188</th>\n",
              "      <td>www.gamespot.com/xbox360/action/deadspace/</td>\n",
              "      <td>phishing</td>\n",
              "    </tr>\n",
              "    <tr>\n",
              "      <th>651189</th>\n",
              "      <td>en.wikipedia.org/wiki/Dead_Space_(video_game)</td>\n",
              "      <td>phishing</td>\n",
              "    </tr>\n",
              "    <tr>\n",
              "      <th>651190</th>\n",
              "      <td>www.angelfire.com/goth/devilmaycrytonite/</td>\n",
              "      <td>phishing</td>\n",
              "    </tr>\n",
              "  </tbody>\n",
              "</table>\n",
              "<p>651191 rows × 2 columns</p>\n",
              "</div>\n",
              "    <div class=\"colab-df-buttons\">\n",
              "\n",
              "  <div class=\"colab-df-container\">\n",
              "    <button class=\"colab-df-convert\" onclick=\"convertToInteractive('df-a8c7eeae-4eca-4b64-a5a4-cb1ebd78cac0')\"\n",
              "            title=\"Convert this dataframe to an interactive table.\"\n",
              "            style=\"display:none;\">\n",
              "\n",
              "  <svg xmlns=\"http://www.w3.org/2000/svg\" height=\"24px\" viewBox=\"0 -960 960 960\">\n",
              "    <path d=\"M120-120v-720h720v720H120Zm60-500h600v-160H180v160Zm220 220h160v-160H400v160Zm0 220h160v-160H400v160ZM180-400h160v-160H180v160Zm440 0h160v-160H620v160ZM180-180h160v-160H180v160Zm440 0h160v-160H620v160Z\"/>\n",
              "  </svg>\n",
              "    </button>\n",
              "\n",
              "  <style>\n",
              "    .colab-df-container {\n",
              "      display:flex;\n",
              "      gap: 12px;\n",
              "    }\n",
              "\n",
              "    .colab-df-convert {\n",
              "      background-color: #E8F0FE;\n",
              "      border: none;\n",
              "      border-radius: 50%;\n",
              "      cursor: pointer;\n",
              "      display: none;\n",
              "      fill: #1967D2;\n",
              "      height: 32px;\n",
              "      padding: 0 0 0 0;\n",
              "      width: 32px;\n",
              "    }\n",
              "\n",
              "    .colab-df-convert:hover {\n",
              "      background-color: #E2EBFA;\n",
              "      box-shadow: 0px 1px 2px rgba(60, 64, 67, 0.3), 0px 1px 3px 1px rgba(60, 64, 67, 0.15);\n",
              "      fill: #174EA6;\n",
              "    }\n",
              "\n",
              "    .colab-df-buttons div {\n",
              "      margin-bottom: 4px;\n",
              "    }\n",
              "\n",
              "    [theme=dark] .colab-df-convert {\n",
              "      background-color: #3B4455;\n",
              "      fill: #D2E3FC;\n",
              "    }\n",
              "\n",
              "    [theme=dark] .colab-df-convert:hover {\n",
              "      background-color: #434B5C;\n",
              "      box-shadow: 0px 1px 3px 1px rgba(0, 0, 0, 0.15);\n",
              "      filter: drop-shadow(0px 1px 2px rgba(0, 0, 0, 0.3));\n",
              "      fill: #FFFFFF;\n",
              "    }\n",
              "  </style>\n",
              "\n",
              "    <script>\n",
              "      const buttonEl =\n",
              "        document.querySelector('#df-a8c7eeae-4eca-4b64-a5a4-cb1ebd78cac0 button.colab-df-convert');\n",
              "      buttonEl.style.display =\n",
              "        google.colab.kernel.accessAllowed ? 'block' : 'none';\n",
              "\n",
              "      async function convertToInteractive(key) {\n",
              "        const element = document.querySelector('#df-a8c7eeae-4eca-4b64-a5a4-cb1ebd78cac0');\n",
              "        const dataTable =\n",
              "          await google.colab.kernel.invokeFunction('convertToInteractive',\n",
              "                                                    [key], {});\n",
              "        if (!dataTable) return;\n",
              "\n",
              "        const docLinkHtml = 'Like what you see? Visit the ' +\n",
              "          '<a target=\"_blank\" href=https://colab.research.google.com/notebooks/data_table.ipynb>data table notebook</a>'\n",
              "          + ' to learn more about interactive tables.';\n",
              "        element.innerHTML = '';\n",
              "        dataTable['output_type'] = 'display_data';\n",
              "        await google.colab.output.renderOutput(dataTable, element);\n",
              "        const docLink = document.createElement('div');\n",
              "        docLink.innerHTML = docLinkHtml;\n",
              "        element.appendChild(docLink);\n",
              "      }\n",
              "    </script>\n",
              "  </div>\n",
              "\n",
              "\n",
              "<div id=\"df-d3afbded-fab1-481f-8c4c-8f9f7e01f9d9\">\n",
              "  <button class=\"colab-df-quickchart\" onclick=\"quickchart('df-d3afbded-fab1-481f-8c4c-8f9f7e01f9d9')\"\n",
              "            title=\"Suggest charts\"\n",
              "            style=\"display:none;\">\n",
              "\n",
              "<svg xmlns=\"http://www.w3.org/2000/svg\" height=\"24px\"viewBox=\"0 0 24 24\"\n",
              "     width=\"24px\">\n",
              "    <g>\n",
              "        <path d=\"M19 3H5c-1.1 0-2 .9-2 2v14c0 1.1.9 2 2 2h14c1.1 0 2-.9 2-2V5c0-1.1-.9-2-2-2zM9 17H7v-7h2v7zm4 0h-2V7h2v10zm4 0h-2v-4h2v4z\"/>\n",
              "    </g>\n",
              "</svg>\n",
              "  </button>\n",
              "\n",
              "<style>\n",
              "  .colab-df-quickchart {\n",
              "      --bg-color: #E8F0FE;\n",
              "      --fill-color: #1967D2;\n",
              "      --hover-bg-color: #E2EBFA;\n",
              "      --hover-fill-color: #174EA6;\n",
              "      --disabled-fill-color: #AAA;\n",
              "      --disabled-bg-color: #DDD;\n",
              "  }\n",
              "\n",
              "  [theme=dark] .colab-df-quickchart {\n",
              "      --bg-color: #3B4455;\n",
              "      --fill-color: #D2E3FC;\n",
              "      --hover-bg-color: #434B5C;\n",
              "      --hover-fill-color: #FFFFFF;\n",
              "      --disabled-bg-color: #3B4455;\n",
              "      --disabled-fill-color: #666;\n",
              "  }\n",
              "\n",
              "  .colab-df-quickchart {\n",
              "    background-color: var(--bg-color);\n",
              "    border: none;\n",
              "    border-radius: 50%;\n",
              "    cursor: pointer;\n",
              "    display: none;\n",
              "    fill: var(--fill-color);\n",
              "    height: 32px;\n",
              "    padding: 0;\n",
              "    width: 32px;\n",
              "  }\n",
              "\n",
              "  .colab-df-quickchart:hover {\n",
              "    background-color: var(--hover-bg-color);\n",
              "    box-shadow: 0 1px 2px rgba(60, 64, 67, 0.3), 0 1px 3px 1px rgba(60, 64, 67, 0.15);\n",
              "    fill: var(--button-hover-fill-color);\n",
              "  }\n",
              "\n",
              "  .colab-df-quickchart-complete:disabled,\n",
              "  .colab-df-quickchart-complete:disabled:hover {\n",
              "    background-color: var(--disabled-bg-color);\n",
              "    fill: var(--disabled-fill-color);\n",
              "    box-shadow: none;\n",
              "  }\n",
              "\n",
              "  .colab-df-spinner {\n",
              "    border: 2px solid var(--fill-color);\n",
              "    border-color: transparent;\n",
              "    border-bottom-color: var(--fill-color);\n",
              "    animation:\n",
              "      spin 1s steps(1) infinite;\n",
              "  }\n",
              "\n",
              "  @keyframes spin {\n",
              "    0% {\n",
              "      border-color: transparent;\n",
              "      border-bottom-color: var(--fill-color);\n",
              "      border-left-color: var(--fill-color);\n",
              "    }\n",
              "    20% {\n",
              "      border-color: transparent;\n",
              "      border-left-color: var(--fill-color);\n",
              "      border-top-color: var(--fill-color);\n",
              "    }\n",
              "    30% {\n",
              "      border-color: transparent;\n",
              "      border-left-color: var(--fill-color);\n",
              "      border-top-color: var(--fill-color);\n",
              "      border-right-color: var(--fill-color);\n",
              "    }\n",
              "    40% {\n",
              "      border-color: transparent;\n",
              "      border-right-color: var(--fill-color);\n",
              "      border-top-color: var(--fill-color);\n",
              "    }\n",
              "    60% {\n",
              "      border-color: transparent;\n",
              "      border-right-color: var(--fill-color);\n",
              "    }\n",
              "    80% {\n",
              "      border-color: transparent;\n",
              "      border-right-color: var(--fill-color);\n",
              "      border-bottom-color: var(--fill-color);\n",
              "    }\n",
              "    90% {\n",
              "      border-color: transparent;\n",
              "      border-bottom-color: var(--fill-color);\n",
              "    }\n",
              "  }\n",
              "</style>\n",
              "\n",
              "  <script>\n",
              "    async function quickchart(key) {\n",
              "      const quickchartButtonEl =\n",
              "        document.querySelector('#' + key + ' button');\n",
              "      quickchartButtonEl.disabled = true;  // To prevent multiple clicks.\n",
              "      quickchartButtonEl.classList.add('colab-df-spinner');\n",
              "      try {\n",
              "        const charts = await google.colab.kernel.invokeFunction(\n",
              "            'suggestCharts', [key], {});\n",
              "      } catch (error) {\n",
              "        console.error('Error during call to suggestCharts:', error);\n",
              "      }\n",
              "      quickchartButtonEl.classList.remove('colab-df-spinner');\n",
              "      quickchartButtonEl.classList.add('colab-df-quickchart-complete');\n",
              "    }\n",
              "    (() => {\n",
              "      let quickchartButtonEl =\n",
              "        document.querySelector('#df-d3afbded-fab1-481f-8c4c-8f9f7e01f9d9 button');\n",
              "      quickchartButtonEl.style.display =\n",
              "        google.colab.kernel.accessAllowed ? 'block' : 'none';\n",
              "    })();\n",
              "  </script>\n",
              "</div>\n",
              "    </div>\n",
              "  </div>\n"
            ]
          },
          "metadata": {},
          "execution_count": 412
        }
      ]
    },
    {
      "cell_type": "code",
      "source": [
        "phishing_sites = data.iloc[:, 0].values\n",
        "attack_type = data.iloc[:, -1].values"
      ],
      "metadata": {
        "id": "iSNMjhHizXvO"
      },
      "execution_count": 413,
      "outputs": []
    },
    {
      "cell_type": "code",
      "source": [
        "print(phishing_sites[0:10])"
      ],
      "metadata": {
        "colab": {
          "base_uri": "https://localhost:8080/"
        },
        "id": "AnnFyEz9zmhl",
        "outputId": "155c0aa1-a306-4eda-f560-1cbc1766af8f"
      },
      "execution_count": 414,
      "outputs": [
        {
          "output_type": "stream",
          "name": "stdout",
          "text": [
            "['br-icloud.com.br' 'mp3raid.com/music/krizz_kaliko.html'\n",
            " 'bopsecrets.org/rexroth/cr/1.htm'\n",
            " 'http://www.garage-pirenne.be/index.php?option=com_content&view=article&id=70&vsig70_0=15'\n",
            " 'http://adventure-nicaragua.net/index.php?option=com_mailto&tmpl=component&link=aHR0cDovL2FkdmVudHVyZS1uaWNhcmFndWEubmV0L2luZGV4LnBocD9vcHRpb249Y29tX2NvbnRlbnQmdmlldz1hcnRpY2xlJmlkPTQ3OmFib3V0JmNhdGlkPTM2OmRlbW8tYXJ0aWNsZXMmSXRlbWlkPTU0'\n",
            " 'http://buzzfil.net/m/show-art/ils-etaient-loin-de-s-imaginer-que-le-hibou-allait-faire-ceci-quand-ils-filmaient-2.html'\n",
            " 'espn.go.com/nba/player/_/id/3457/brandon-rush'\n",
            " 'yourbittorrent.com/?q=anthony-hamilton-soulife'\n",
            " 'http://www.pashminaonline.com/pure-pashminas'\n",
            " 'allmusic.com/album/crazy-from-the-heat-r16990']\n"
          ]
        }
      ]
    },
    {
      "cell_type": "code",
      "source": [
        "phishing = data[data.loc[:, 'type'] == 'phishing']\n",
        "benign = data[(data.loc[:, 'type'] == 'benign') | (data.loc[:, 'type'] == 'benig')]\n",
        "defacement = data[data.loc[:, 'type'] == 'defacement']\n",
        "malware = data[data.loc[:, 'type'] == 'malware']"
      ],
      "metadata": {
        "id": "EuA5XGWiKk33"
      },
      "execution_count": 415,
      "outputs": []
    },
    {
      "cell_type": "code",
      "source": [
        "phishing = phishing['url']\n",
        "benign = benign['url']\n",
        "defacement = defacement['url']\n",
        "malware = malware['url']"
      ],
      "metadata": {
        "id": "bH8QXA2iRoMk"
      },
      "execution_count": 416,
      "outputs": []
    },
    {
      "cell_type": "code",
      "source": [
        "print(phishing)"
      ],
      "metadata": {
        "colab": {
          "base_uri": "https://localhost:8080/"
        },
        "id": "re6OwKAlp8Fi",
        "outputId": "aadfca07-cefd-4a56-a497-784c27317bc5"
      },
      "execution_count": 417,
      "outputs": [
        {
          "output_type": "stream",
          "name": "stdout",
          "text": [
            "0                                          br-icloud.com.br\n",
            "21               signin.eby.de.zukruygxctzmmqi.civpro.co.za\n",
            "28        http://www.marketingbyinternet.com/mo/e56508df...\n",
            "40        https://docs.google.com/spreadsheet/viewform?f...\n",
            "72                                     retajconsultancy.com\n",
            "                                ...                        \n",
            "651186              xbox360.ign.com/objects/850/850402.html\n",
            "651187         games.teamxbox.com/xbox-360/1860/Dead-Space/\n",
            "651188           www.gamespot.com/xbox360/action/deadspace/\n",
            "651189        en.wikipedia.org/wiki/Dead_Space_(video_game)\n",
            "651190            www.angelfire.com/goth/devilmaycrytonite/\n",
            "Name: url, Length: 94111, dtype: object\n"
          ]
        }
      ]
    },
    {
      "cell_type": "code",
      "source": [
        "# Need to do this first\n",
        "\n",
        "print(defacement)"
      ],
      "metadata": {
        "colab": {
          "base_uri": "https://localhost:8080/"
        },
        "id": "LD3KB0yeRRTM",
        "outputId": "98d96936-59f7-44f8-b87c-08bbe09be6b3"
      },
      "execution_count": 418,
      "outputs": [
        {
          "output_type": "stream",
          "name": "stdout",
          "text": [
            "3         http://www.garage-pirenne.be/index.php?option=...\n",
            "4         http://adventure-nicaragua.net/index.php?optio...\n",
            "8              http://www.pashminaonline.com/pure-pashminas\n",
            "11        http://www.ikenmijnkunst.nl/index.php/expositi...\n",
            "13        http://www.lebensmittel-ueberwachung.de/index....\n",
            "                                ...                        \n",
            "520294    http://blueanchor.nl/dintelmarkt/page/show_cat...\n",
            "520302                  http://www.hafenrocker.de/index.php\n",
            "520305    http://www.kulgupuit.ee/index.php?option=com_p...\n",
            "520308     http://www.nhomkinhdep.com/tu-bep-nhom-kinh.html\n",
            "520325    http://www.capella.nl/nl.html?view=article&cat...\n",
            "Name: url, Length: 96457, dtype: object\n"
          ]
        }
      ]
    },
    {
      "cell_type": "code",
      "source": [
        "print(len(phishing), len(benign), len(defacement), len(malware))"
      ],
      "metadata": {
        "colab": {
          "base_uri": "https://localhost:8080/"
        },
        "id": "wA24UtSgK8cw",
        "outputId": "dadecc11-3136-49f1-b840-5a3b117e507f"
      },
      "execution_count": 419,
      "outputs": [
        {
          "output_type": "stream",
          "name": "stdout",
          "text": [
            "94111 428103 96457 32520\n"
          ]
        }
      ]
    },
    {
      "cell_type": "code",
      "source": [
        "len(phishing_sites)"
      ],
      "metadata": {
        "colab": {
          "base_uri": "https://localhost:8080/"
        },
        "id": "UnP7lXz5ztMp",
        "outputId": "251e45f8-7c22-46cd-fd18-feb2b9fcb30c"
      },
      "execution_count": 420,
      "outputs": [
        {
          "output_type": "execute_result",
          "data": {
            "text/plain": [
              "651191"
            ]
          },
          "metadata": {},
          "execution_count": 420
        }
      ]
    },
    {
      "cell_type": "code",
      "source": [
        "len(attack_type)"
      ],
      "metadata": {
        "colab": {
          "base_uri": "https://localhost:8080/"
        },
        "id": "Y6h6V4raz32r",
        "outputId": "6f264196-1115-4ddc-8387-011483a9650d"
      },
      "execution_count": 421,
      "outputs": [
        {
          "output_type": "execute_result",
          "data": {
            "text/plain": [
              "651191"
            ]
          },
          "metadata": {},
          "execution_count": 421
        }
      ]
    },
    {
      "cell_type": "markdown",
      "source": [
        "Transforming the Dataframe"
      ],
      "metadata": {
        "id": "bpYNDEe4Pkkw"
      }
    },
    {
      "cell_type": "code",
      "source": [
        "# Have to turn the Dataframe to a numpy array then reshape this array to have one dimension. This is because\n",
        "# the FreqDist class is expecting a numpy array/list with one dimension\n",
        "\n",
        "phishing = phishing.to_numpy().reshape(-1)\n",
        "malware = malware.to_numpy().reshape(-1)\n",
        "benign = benign.to_numpy().reshape(-1)\n",
        "defacement = defacement.to_numpy().reshape(-1)"
      ],
      "metadata": {
        "id": "cg3lztcJNp8o"
      },
      "execution_count": 422,
      "outputs": []
    },
    {
      "cell_type": "code",
      "source": [
        "print(defacement)"
      ],
      "metadata": {
        "colab": {
          "base_uri": "https://localhost:8080/"
        },
        "id": "eXYGN8FBRGfT",
        "outputId": "8f8389b6-c90f-4ddb-bb54-bbb8d48b3f3e"
      },
      "execution_count": 423,
      "outputs": [
        {
          "output_type": "stream",
          "name": "stdout",
          "text": [
            "['http://www.garage-pirenne.be/index.php?option=com_content&view=article&id=70&vsig70_0=15'\n",
            " 'http://adventure-nicaragua.net/index.php?option=com_mailto&tmpl=component&link=aHR0cDovL2FkdmVudHVyZS1uaWNhcmFndWEubmV0L2luZGV4LnBocD9vcHRpb249Y29tX2NvbnRlbnQmdmlldz1hcnRpY2xlJmlkPTQ3OmFib3V0JmNhdGlkPTM2OmRlbW8tYXJ0aWNsZXMmSXRlbWlkPTU0'\n",
            " 'http://www.pashminaonline.com/pure-pashminas' ...\n",
            " 'http://www.kulgupuit.ee/index.php?option=com_phocagallery&view=detail&catid=2:foto&id=28:adver-2&tmpl=component&Itemid=5&lang=et'\n",
            " 'http://www.nhomkinhdep.com/tu-bep-nhom-kinh.html'\n",
            " 'http://www.capella.nl/nl.html?view=article&catid=25:capella&id=75:capellaprogrammas&tmpl=component&print=1&page=']\n"
          ]
        }
      ]
    },
    {
      "cell_type": "code",
      "source": [
        "print(type(phishing))"
      ],
      "metadata": {
        "colab": {
          "base_uri": "https://localhost:8080/"
        },
        "id": "HMAjBMi9OJ2l",
        "outputId": "d672f42f-0cc2-4816-ba93-71ec46c4ea56"
      },
      "execution_count": 424,
      "outputs": [
        {
          "output_type": "stream",
          "name": "stdout",
          "text": [
            "<class 'numpy.ndarray'>\n"
          ]
        }
      ]
    },
    {
      "cell_type": "code",
      "source": [
        "print(type(phishing), type(phishing_sites))"
      ],
      "metadata": {
        "colab": {
          "base_uri": "https://localhost:8080/"
        },
        "id": "ez8v9U5xNfs_",
        "outputId": "a44fc7b3-d0cb-4e52-be2b-6a7cdd3b6e37"
      },
      "execution_count": 425,
      "outputs": [
        {
          "output_type": "stream",
          "name": "stdout",
          "text": [
            "<class 'numpy.ndarray'> <class 'numpy.ndarray'>\n"
          ]
        }
      ]
    },
    {
      "cell_type": "code",
      "source": [
        "pd.unique(attack_type)"
      ],
      "metadata": {
        "colab": {
          "base_uri": "https://localhost:8080/"
        },
        "id": "NbE-DhTLz4DD",
        "outputId": "ba2c6da8-4938-4c71-d35f-fdf0bf70a62a"
      },
      "execution_count": 426,
      "outputs": [
        {
          "output_type": "execute_result",
          "data": {
            "text/plain": [
              "array(['phishing', 'benign', 'defacement', 'malware'], dtype=object)"
            ]
          },
          "metadata": {},
          "execution_count": 426
        }
      ]
    },
    {
      "cell_type": "code",
      "source": [
        "pd.value_counts(attack_type)"
      ],
      "metadata": {
        "colab": {
          "base_uri": "https://localhost:8080/"
        },
        "id": "Ry5iOo2Xz4OU",
        "outputId": "40ce85c7-ae61-4333-9b2c-63969130b346"
      },
      "execution_count": 427,
      "outputs": [
        {
          "output_type": "execute_result",
          "data": {
            "text/plain": [
              "benign        428103\n",
              "defacement     96457\n",
              "phishing       94111\n",
              "malware        32520\n",
              "dtype: int64"
            ]
          },
          "metadata": {},
          "execution_count": 427
        }
      ]
    },
    {
      "cell_type": "code",
      "source": [
        "'''\n",
        "benign = 165966\n",
        "defacement = 41934\n",
        "phishing = 13595\n",
        "malware = 5431\n",
        "'''"
      ],
      "metadata": {
        "colab": {
          "base_uri": "https://localhost:8080/",
          "height": 35
        },
        "id": "Ikg4V-_U0krl",
        "outputId": "142c7287-c348-42cd-becb-81a50575fe5d"
      },
      "execution_count": 428,
      "outputs": [
        {
          "output_type": "execute_result",
          "data": {
            "text/plain": [
              "'\\nbenign = 165966\\ndefacement = 41934\\nphishing = 13595\\nmalware = 5431\\n'"
            ],
            "application/vnd.google.colaboratory.intrinsic+json": {
              "type": "string"
            }
          },
          "metadata": {},
          "execution_count": 428
        }
      ]
    },
    {
      "cell_type": "code",
      "source": [
        "# Extract the frequency distributions of each sub-class individually then of the whole data also\n",
        "# From this frequency distributing, get the most frequent words\n",
        "# draw the graph of the most frequent words\n",
        "# draw the word clouds of the individual sub-classes\n",
        "# draw the roc-curve\n",
        "\n",
        "# Further Research, create a stop words dictionary for website links"
      ],
      "metadata": {
        "id": "q2jXxMXrE97M"
      },
      "execution_count": 429,
      "outputs": []
    },
    {
      "cell_type": "code",
      "source": [
        "from nltk import FreqDist"
      ],
      "metadata": {
        "id": "RqufVwcKGKA6"
      },
      "execution_count": 430,
      "outputs": []
    },
    {
      "cell_type": "code",
      "source": [
        "freq_dist_all = FreqDist(phishing_sites)\n",
        "print(freq_dist_all)"
      ],
      "metadata": {
        "colab": {
          "base_uri": "https://localhost:8080/"
        },
        "id": "H5qU2LePGKJJ",
        "outputId": "41ab21a7-f2fe-42f2-9e5a-66c3a7c26142"
      },
      "execution_count": 431,
      "outputs": [
        {
          "output_type": "stream",
          "name": "stdout",
          "text": [
            "<FreqDist with 641119 samples and 651191 outcomes>\n"
          ]
        }
      ]
    },
    {
      "cell_type": "code",
      "source": [
        "freq_phishing = FreqDist(phishing)\n",
        "freq_phishing.most_common(10)\n",
        "#print(freq_phishing)\n",
        "#freq_phishing.plot(10, cumulative=True)"
      ],
      "metadata": {
        "id": "dlVoEwnKOWn_",
        "colab": {
          "base_uri": "https://localhost:8080/"
        },
        "outputId": "350fb331-eb14-4bc5-89aa-0ec3fc992361"
      },
      "execution_count": 432,
      "outputs": [
        {
          "output_type": "execute_result",
          "data": {
            "text/plain": [
              "[('http://www.naylorantiques.com/EuDbESJbAubgP-elznH_j-AbkTI_TA', 3),\n",
              " ('http://www.naylorantiques.com/htwtSL-GeZ-klr.--valhCPT', 2),\n",
              " ('http://www.naylorantiques.com/patrimonio/58', 2),\n",
              " ('http://www.naylorantiques.com/AtualizacaoSegura/pictures/2242', 2),\n",
              " ('http://www.gkjx168.com/images/?ref=http://uqpzemuus.battle.net/d3/en/index',\n",
              "  2),\n",
              " ('http://www.jjscdc.cn/adfile/login.html', 2),\n",
              " ('http://www.habbocreditosparati.blogspot.com/', 2),\n",
              " ('http://www.jjscdc.cn/adfile/login.html?http://us.battle.net/login/en/?ref=http://us.battle.net/d3/en/index&amp;app=com-d3',\n",
              "  2),\n",
              " ('http://www.jjscdc.cn/adfile/login.html?http://us.battle.net/login/en/?ref=http://us.battle.net/d3/en/index',\n",
              "  2),\n",
              " ('http://www.naylorantiques.com/CustomerWeb/pages/24', 2)]"
            ]
          },
          "metadata": {},
          "execution_count": 432
        }
      ]
    },
    {
      "cell_type": "code",
      "source": [
        "freq_benign = FreqDist(benign)\n",
        "#print(freq_dist_phishing)\n",
        "freq_benign.most_common(10)\n",
        "#freq_benign.plot(10, cumulative=True)"
      ],
      "metadata": {
        "colab": {
          "base_uri": "https://localhost:8080/"
        },
        "id": "kqtsQDliP_oW",
        "outputId": "8a305a67-1662-4a53-8135-3ec922f4c102"
      },
      "execution_count": 433,
      "outputs": [
        {
          "output_type": "execute_result",
          "data": {
            "text/plain": [
              "[('psychology.concordia.ca/', 2),\n",
              " ('umkc.edu/history/', 2),\n",
              " ('hobbyfever.com/', 2),\n",
              " ('stubhub.com/kansas-city-royals-tickets/', 2),\n",
              " ('sites.google.com/a/connectory.org/world-connectory-project/list-of-partnerships-for-global-south',\n",
              "  2),\n",
              " ('insidervlv.com/Odds/PreviousStanleyCups.html', 2),\n",
              " ('lhs-sfusd-ca.schoolloop.com/', 2),\n",
              " ('tricity.wsu.edu/', 2),\n",
              " ('soul-patrol.com/', 2),\n",
              " ('oaklandnet.com/', 2)]"
            ]
          },
          "metadata": {},
          "execution_count": 433
        }
      ]
    },
    {
      "cell_type": "code",
      "source": [
        "freq_malware = FreqDist(malware)\n",
        "freq_malware.most_common(10)\n",
        "#print(freq_dist_phishing)\n",
        "#freq_malware.most_common(20)\n",
        "#freq_malware.plot(10, cumulative=True)"
      ],
      "metadata": {
        "id": "dAdygCmAQGV-",
        "colab": {
          "base_uri": "https://localhost:8080/"
        },
        "outputId": "6d899dd6-1722-4484-a2a5-2b7339eb39b4"
      },
      "execution_count": 434,
      "outputs": [
        {
          "output_type": "execute_result",
          "data": {
            "text/plain": [
              "[('http://style.org.hc360.com/css/detail/mysite/siteconfig/pro_control.css',\n",
              "  180),\n",
              " ('http://www.pubyun.com/wiki/lib/exe/css.php?t=dokuwiki&tseed=f1f16e8c6142fab8553f2b9cfe045961',\n",
              "  146),\n",
              " ('http://9779.info/%E6%A0%91%E5%8F%B6%E8%B4%B4%E7%94%BB%E4%BD%9C%E5%93%81/',\n",
              "  91),\n",
              " ('http://9779.info/%E6%A0%91%E5%8F%B6%E7%B2%98%E8%B4%B4%E7%94%BB/', 88),\n",
              " ('http://www.js182.com/app/member/SportOption.php?uid=guest&langx=gb', 79),\n",
              " ('http://www.711100.com/app/member/SportOption.php?uid=guest&langx=gb', 72),\n",
              " ('http://www.824555.com/app/member/SportOption.php?uid=guest&langx=gb', 71),\n",
              " ('http://pjhku.com/plugin.php?id=levsign&m=2&fh=6848d1f0&hook=1&mobile=no',\n",
              "  70),\n",
              " ('http://9779.info/%E8%A1%8D%E7%BA%B8%E8%B4%B4%E7%94%BB%E5%9B%BE%E7%89%87%E6%AC%A3%E8%B5%8F/',\n",
              "  69),\n",
              " ('http://9779.info/%E5%B0%8F%E7%8F%AD%E5%B9%BC%E5%84%BF%E5%89%AA%E7%BA%B8%E8%B4%B4%E7%94%BB/',\n",
              "  63)]"
            ]
          },
          "metadata": {},
          "execution_count": 434
        }
      ]
    },
    {
      "cell_type": "code",
      "source": [
        "freq_defacement = FreqDist(defacement)\n",
        "freq_defacement.most_common(10)\n",
        "#print(freq_dist_phishing)\n",
        "#freq_defacement.plot(10, cumulative=True)"
      ],
      "metadata": {
        "id": "-263NKEBQKo6",
        "colab": {
          "base_uri": "https://localhost:8080/"
        },
        "outputId": "0d755f24-69d2-4a5c-ef64-09d47bdd0498"
      },
      "execution_count": 435,
      "outputs": [
        {
          "output_type": "execute_result",
          "data": {
            "text/plain": [
              "[('http://www.centercamping.com.br/index.php?option=com_ckforms&task=captcha&sid=c4ce9d9bffcf8ba3357da92fd49c2457',\n",
              "  3),\n",
              " ('http://www.bruynzeelmultipanel.be/index.php?option=com_content&view=article&id=20&Itemid=21',\n",
              "  3),\n",
              " ('http://www.bruynzeelmultipanel.be/index.php?option=com_artforms&formid=1&Itemid=99999',\n",
              "  3),\n",
              " ('http://www.zibae.ir/index.php?option=com_mailto&tmpl=component&link=aHR0cDovL3d3dy56aWJhZS5pci9pbmRleC5waHA%2Fb3B0aW9uPWNvbV9jb250ZW50JnZpZXc9YXJ0aWNsZSZpZD02NTM6MTM5MS0xMS0wOC0wOC00OC0yNyZjYXRpZD0xMjoxMzg5LTA5LTI5LTA3LTQzLTMw',\n",
              "  3),\n",
              " ('http://www.ninopizzaria.com.br/index.php?option=com_content&view=category&id=43&Itemid=63',\n",
              "  3),\n",
              " ('http://www.bruynzeelmultipanel.be/index.php?option=com_content&view=article&id=7&Itemid=8',\n",
              "  3),\n",
              " ('http://www.allaroundrental.com/index.php?page=shop.product_details&flypage=flypage.pbv.v1.tpl&product_id=387&category_id=33&option=com_virtuemart&Itemid=69',\n",
              "  3),\n",
              " ('http://www.holidayclub-mtb.com/holiday/index.php?option=com_content&view=article&id=45&Itemid=60',\n",
              "  3),\n",
              " ('http://www.allaroundrental.com/index.php?option=com_virtuemart&Itemid=57',\n",
              "  3),\n",
              " ('http://www.rsch.co.uk/index.php/home.1', 3)]"
            ]
          },
          "metadata": {},
          "execution_count": 435
        }
      ]
    },
    {
      "cell_type": "code",
      "source": [
        "print(phishing.ndim)"
      ],
      "metadata": {
        "colab": {
          "base_uri": "https://localhost:8080/"
        },
        "id": "fJqt-7lXOgi7",
        "outputId": "fc21f070-556e-4c72-9a5c-80db8478ccfa"
      },
      "execution_count": 436,
      "outputs": [
        {
          "output_type": "stream",
          "name": "stdout",
          "text": [
            "1\n"
          ]
        }
      ]
    },
    {
      "cell_type": "code",
      "source": [
        "freq_dist_all.most_common(10)"
      ],
      "metadata": {
        "colab": {
          "base_uri": "https://localhost:8080/"
        },
        "id": "EwnCCNmBGKR8",
        "outputId": "39e5c969-f41c-4919-f13f-8a95e7b3af46"
      },
      "execution_count": 437,
      "outputs": [
        {
          "output_type": "execute_result",
          "data": {
            "text/plain": [
              "[('http://style.org.hc360.com/css/detail/mysite/siteconfig/pro_control.css',\n",
              "  180),\n",
              " ('http://www.pubyun.com/wiki/lib/exe/css.php?t=dokuwiki&tseed=f1f16e8c6142fab8553f2b9cfe045961',\n",
              "  146),\n",
              " ('http://9779.info/%E6%A0%91%E5%8F%B6%E8%B4%B4%E7%94%BB%E4%BD%9C%E5%93%81/',\n",
              "  91),\n",
              " ('http://9779.info/%E6%A0%91%E5%8F%B6%E7%B2%98%E8%B4%B4%E7%94%BB/', 88),\n",
              " ('http://www.js182.com/app/member/SportOption.php?uid=guest&langx=gb', 79),\n",
              " ('http://www.711100.com/app/member/SportOption.php?uid=guest&langx=gb', 72),\n",
              " ('http://www.824555.com/app/member/SportOption.php?uid=guest&langx=gb', 71),\n",
              " ('http://pjhku.com/plugin.php?id=levsign&m=2&fh=6848d1f0&hook=1&mobile=no',\n",
              "  70),\n",
              " ('http://9779.info/%E8%A1%8D%E7%BA%B8%E8%B4%B4%E7%94%BB%E5%9B%BE%E7%89%87%E6%AC%A3%E8%B5%8F/',\n",
              "  69),\n",
              " ('http://9779.info/%E5%B0%8F%E7%8F%AD%E5%B9%BC%E5%84%BF%E5%89%AA%E7%BA%B8%E8%B4%B4%E7%94%BB/',\n",
              "  63)]"
            ]
          },
          "metadata": {},
          "execution_count": 437
        }
      ]
    },
    {
      "cell_type": "code",
      "source": [
        "nltk.download('punkt')\n",
        "nltk.download('stopwords')"
      ],
      "metadata": {
        "colab": {
          "base_uri": "https://localhost:8080/"
        },
        "id": "B1yIzI-AH_BD",
        "outputId": "68a36da6-86e4-4a5f-8a6b-b1db34ae6832"
      },
      "execution_count": 438,
      "outputs": [
        {
          "output_type": "stream",
          "name": "stderr",
          "text": [
            "[nltk_data] Downloading package punkt to /root/nltk_data...\n",
            "[nltk_data]   Package punkt is already up-to-date!\n",
            "[nltk_data] Downloading package stopwords to /root/nltk_data...\n",
            "[nltk_data]   Package stopwords is already up-to-date!\n"
          ]
        },
        {
          "output_type": "execute_result",
          "data": {
            "text/plain": [
              "True"
            ]
          },
          "metadata": {},
          "execution_count": 438
        }
      ]
    },
    {
      "cell_type": "code",
      "source": [
        "data_types = [phishing, malware, defacement, benign]\n",
        "\n",
        "# Method to print out the type of a variable.\n",
        "\n",
        "def check_type(data):\n",
        "  if isinstance(data, list):\n",
        "    for i in data_types:\n",
        "      print(type(i))\n",
        "  else:\n",
        "    print(type(data))\n",
        "\n",
        "check_type(data_types)"
      ],
      "metadata": {
        "colab": {
          "base_uri": "https://localhost:8080/"
        },
        "id": "0jlGSq4VkabD",
        "outputId": "0d71a349-f4a2-4b7c-fba6-c42d87407b46"
      },
      "execution_count": 439,
      "outputs": [
        {
          "output_type": "stream",
          "name": "stdout",
          "text": [
            "<class 'numpy.ndarray'>\n",
            "<class 'numpy.ndarray'>\n",
            "<class 'numpy.ndarray'>\n",
            "<class 'numpy.ndarray'>\n"
          ]
        }
      ]
    },
    {
      "cell_type": "code",
      "source": [
        "phishing_as_string = np.array_str(phishing)\n",
        "malware_as_string = np.array_str(malware)\n",
        "defacement_as_string = np.array_str(defacement)"
      ],
      "metadata": {
        "id": "dP7wt_hkkajp"
      },
      "execution_count": 440,
      "outputs": []
    },
    {
      "cell_type": "code",
      "source": [
        "phishing_as_string"
      ],
      "metadata": {
        "colab": {
          "base_uri": "https://localhost:8080/",
          "height": 53
        },
        "id": "FVeaP5pqpUzy",
        "outputId": "6a3a49d2-f7af-4f42-a243-d26212fcf3a9"
      },
      "execution_count": 441,
      "outputs": [
        {
          "output_type": "execute_result",
          "data": {
            "text/plain": [
              "\"['br-icloud.com.br' 'signin.eby.de.zukruygxctzmmqi.civpro.co.za'\\n 'http://www.marketingbyinternet.com/mo/e56508df639f6ce7d55c81ee3fcd5ba8/'\\n ... 'www.gamespot.com/xbox360/action/deadspace/'\\n 'en.wikipedia.org/wiki/Dead_Space_(video_game)'\\n 'www.angelfire.com/goth/devilmaycrytonite/']\""
            ],
            "application/vnd.google.colaboratory.intrinsic+json": {
              "type": "string"
            }
          },
          "metadata": {},
          "execution_count": 441
        }
      ]
    },
    {
      "cell_type": "code",
      "source": [
        "phishing"
      ],
      "metadata": {
        "id": "Un11RSTEsxa9",
        "colab": {
          "base_uri": "https://localhost:8080/"
        },
        "outputId": "a1cb3b51-664e-42be-c361-15136a6b64ae"
      },
      "execution_count": 442,
      "outputs": [
        {
          "output_type": "execute_result",
          "data": {
            "text/plain": [
              "array(['br-icloud.com.br', 'signin.eby.de.zukruygxctzmmqi.civpro.co.za',\n",
              "       'http://www.marketingbyinternet.com/mo/e56508df639f6ce7d55c81ee3fcd5ba8/',\n",
              "       ..., 'www.gamespot.com/xbox360/action/deadspace/',\n",
              "       'en.wikipedia.org/wiki/Dead_Space_(video_game)',\n",
              "       'www.angelfire.com/goth/devilmaycrytonite/'], dtype=object)"
            ]
          },
          "metadata": {},
          "execution_count": 442
        }
      ]
    },
    {
      "cell_type": "code",
      "source": [
        "check_type(defacement_as_string)"
      ],
      "metadata": {
        "colab": {
          "base_uri": "https://localhost:8080/"
        },
        "id": "Vu75qBaFkaso",
        "outputId": "8f37b8a1-02bc-4783-97b7-d033d5d657b3"
      },
      "execution_count": 443,
      "outputs": [
        {
          "output_type": "stream",
          "name": "stdout",
          "text": [
            "<class 'str'>\n"
          ]
        }
      ]
    },
    {
      "cell_type": "code",
      "source": [
        "from wordcloud import WordCloud, STOPWORDS"
      ],
      "metadata": {
        "id": "YtxdOhYvn7rQ"
      },
      "execution_count": 444,
      "outputs": []
    },
    {
      "cell_type": "code",
      "source": [
        "print(phishing)"
      ],
      "metadata": {
        "colab": {
          "base_uri": "https://localhost:8080/"
        },
        "id": "4bc7AU4ypuu8",
        "outputId": "fe10230e-85cd-4040-b23c-973969cd9774"
      },
      "execution_count": 445,
      "outputs": [
        {
          "output_type": "stream",
          "name": "stdout",
          "text": [
            "['br-icloud.com.br' 'signin.eby.de.zukruygxctzmmqi.civpro.co.za'\n",
            " 'http://www.marketingbyinternet.com/mo/e56508df639f6ce7d55c81ee3fcd5ba8/'\n",
            " ... 'www.gamespot.com/xbox360/action/deadspace/'\n",
            " 'en.wikipedia.org/wiki/Dead_Space_(video_game)'\n",
            " 'www.angelfire.com/goth/devilmaycrytonite/']\n"
          ]
        }
      ]
    },
    {
      "cell_type": "code",
      "source": [
        "phishing_tokens = [nltk.tokenize.sent_tokenize(word) for word in phishing]"
      ],
      "metadata": {
        "id": "WyLwcnDkog2T"
      },
      "execution_count": 446,
      "outputs": []
    },
    {
      "cell_type": "code",
      "source": [
        "malware_tokens = [nltk.tokenize.sent_tokenize(word) for word in malware]"
      ],
      "metadata": {
        "id": "mhgAjBD2CvA2"
      },
      "execution_count": 447,
      "outputs": []
    },
    {
      "cell_type": "code",
      "source": [
        "defacement_tokens = [nltk.tokenize.sent_tokenize(word) for word in defacement]"
      ],
      "metadata": {
        "id": "7fBqmu6QCvJk"
      },
      "execution_count": 448,
      "outputs": []
    },
    {
      "cell_type": "code",
      "source": [
        "benign_tokens = [nltk.tokenize.sent_tokenize(word) for word in benign]"
      ],
      "metadata": {
        "id": "DBKeH89oHmFD"
      },
      "execution_count": 449,
      "outputs": []
    },
    {
      "cell_type": "code",
      "source": [
        "print(malware_tokens[:10])"
      ],
      "metadata": {
        "colab": {
          "base_uri": "https://localhost:8080/"
        },
        "id": "hG-E-HY7pLyr",
        "outputId": "fdd076f0-bfb4-416d-aa43-88e0c204c5bf"
      },
      "execution_count": 450,
      "outputs": [
        {
          "output_type": "stream",
          "name": "stdout",
          "text": [
            "[['http://www.824555.com/app/member/SportOption.php?uid=guest&langx=gb'], ['http://9779.info/%E5%84%BF%E7%AB%A5%E7%AB%8B%E4%BD%93%E7%BA%B8%E8%B4%B4%E7%94%BB/'], ['http://9779.info/%E6%A0%91%E5%8F%B6%E7%B2%98%E8%B4%B4%E7%94%BB/'], ['http://9779.info/%E5%8F%A4%E4%BB%A3%E4%BA%8C%E5%8D%81%E5%9B%9B%E5%AD%9D%E5%B8%83%E8%B4%B4%E7%94%BB/'], ['http://chinacxyy.com/piccodejs-000.asp?lm2=191&x=3&y=2&w=90&h=63&open=1&n=10&tj=0'], ['http://9779.info/%E6%8A%98%E7%BA%B8%E6%89%87%E5%AD%90%E6%8B%BC%E8%B4%B4%E7%94%BB/'], ['http://portal.dddgaming.com/docs/rules/15022/cn/game_cn.html?amluMjAxNQ%3D%3D'], ['http://9779.info/%E7%AE%80%E5%8D%95%E6%8A%98%E7%BA%B8%E7%B2%98%E8%B4%B4%E7%94%BB/'], ['http://9779.info/%E5%B9%BC%E5%84%BF%E7%B2%BD%E5%8F%B6%E8%B4%B4%E7%94%BB/'], ['http://grasslandhotel.com.vn/index.php/component/djcatalog2/items/6-services']]\n"
          ]
        }
      ]
    },
    {
      "cell_type": "code",
      "source": [
        "import re\n",
        "\n",
        "clean = \" \"\n",
        "count = 0\n",
        "stopwords = set(STOPWORDS)\n",
        "\n",
        "def clean_text_tokens(text, cleaned_text):\n",
        "  for i in text:\n",
        "    for j in i:\n",
        "      j = re.sub(r'[^a-zA-Z0-9\\s]', ' ', j)\n",
        "      j = re.sub(r'http', ' ', j)\n",
        "      j = re.sub(r'www', ' ', j)\n",
        "      j = re.sub(r'html', ' ', j)\n",
        "      j = re.sub(r'htm', ' ', j)\n",
        "      j = re.sub(r'org', ' ', j)\n",
        "      j = re.sub(r'co', ' ', j)\n",
        "      j = re.sub(r'uk', ' ', j)\n",
        "      cleaned_text += j\n",
        "  return cleaned_text\n",
        "\n",
        "#print(data_2)"
      ],
      "metadata": {
        "id": "wUsWYjocnD62"
      },
      "execution_count": 451,
      "outputs": []
    },
    {
      "cell_type": "code",
      "source": [
        "clean_malware = clean_text_tokens(malware_tokens, clean)"
      ],
      "metadata": {
        "id": "WCkHilkIC-Xa"
      },
      "execution_count": 452,
      "outputs": []
    },
    {
      "cell_type": "code",
      "source": [
        "clean_defacement = clean_text_tokens(defacement_tokens, clean)"
      ],
      "metadata": {
        "id": "TdNmp53wGVou"
      },
      "execution_count": 453,
      "outputs": []
    },
    {
      "cell_type": "code",
      "source": [
        "clean_benign = clean_text_tokens(benign_tokens, clean)"
      ],
      "metadata": {
        "id": "IJEd_snSHuyd"
      },
      "execution_count": 454,
      "outputs": []
    },
    {
      "cell_type": "code",
      "source": [
        "import re\n",
        "\n",
        "clean = \" \"\n"
      ],
      "metadata": {
        "id": "ltGCwILFC_Ec"
      },
      "execution_count": 455,
      "outputs": []
    },
    {
      "cell_type": "code",
      "source": [
        "print(len(clean_malware))"
      ],
      "metadata": {
        "colab": {
          "base_uri": "https://localhost:8080/"
        },
        "id": "pzuM5t7M0Tc5",
        "outputId": "6643a140-e4ba-4871-a7a1-5647742ca2b6"
      },
      "execution_count": 456,
      "outputs": [
        {
          "output_type": "stream",
          "name": "stdout",
          "text": [
            "1716662\n"
          ]
        }
      ]
    },
    {
      "cell_type": "code",
      "source": [
        "check_type(clean)"
      ],
      "metadata": {
        "colab": {
          "base_uri": "https://localhost:8080/"
        },
        "id": "7z0Mx5z71TX6",
        "outputId": "0ddb6a62-055f-45e2-d9e8-ca33f6aa25bf"
      },
      "execution_count": 457,
      "outputs": [
        {
          "output_type": "stream",
          "name": "stdout",
          "text": [
            "<class 'str'>\n"
          ]
        }
      ]
    },
    {
      "cell_type": "code",
      "source": [
        "wordcloud = WordCloud(width = 1400,\n",
        "                      height = 800,\n",
        "                      stopwords = stopwords,\n",
        "                      min_font_size = 12,\n",
        "                      random_state=1,\n",
        "                      collocations=False,\n",
        "                      colormap='cividis').generate(clean_benign)"
      ],
      "metadata": {
        "id": "P4D6zStz1WoG"
      },
      "execution_count": 458,
      "outputs": []
    },
    {
      "cell_type": "code",
      "source": [
        "plt.figure(figsize = (10, 6), facecolor = None)\n",
        "plt.imshow(wordcloud, interpolation='bilinear')\n",
        "plt.savefig('wordcloud_malware.png', format='png', dpi=150, bbox_inches='tight')\n",
        "plt.axis('off')\n",
        "plt.show()"
      ],
      "metadata": {
        "colab": {
          "base_uri": "https://localhost:8080/",
          "height": 479
        },
        "id": "sm0SmgId1cQL",
        "outputId": "d51b789d-3b7f-459e-b036-6ff8395e249c"
      },
      "execution_count": 459,
      "outputs": [
        {
          "output_type": "display_data",
          "data": {
            "text/plain": [
              "<Figure size 1000x600 with 1 Axes>"
            ],
            "image/png": "[encoded data removed]"
          },
          "metadata": {}
        }
      ]
    },
    {
      "cell_type": "code",
      "source": [
        "type(phishing_sites)"
      ],
      "metadata": {
        "colab": {
          "base_uri": "https://localhost:8080/"
        },
        "id": "P_VrK-IhJIK_",
        "outputId": "540d81b6-c320-4a82-d5db-e419db132cca"
      },
      "execution_count": 460,
      "outputs": [
        {
          "output_type": "execute_result",
          "data": {
            "text/plain": [
              "numpy.ndarray"
            ]
          },
          "metadata": {},
          "execution_count": 460
        }
      ]
    },
    {
      "cell_type": "code",
      "source": [
        "phishing_sites_strings = str(phishing_sites)"
      ],
      "metadata": {
        "id": "-r-qUzBvJMNa"
      },
      "execution_count": 461,
      "outputs": []
    },
    {
      "cell_type": "code",
      "source": [
        "type(phishing_sites_strings)"
      ],
      "metadata": {
        "colab": {
          "base_uri": "https://localhost:8080/"
        },
        "id": "2TlG47w7JT2H",
        "outputId": "3597e748-f1e3-481b-8291-ad7dfe5e5e98"
      },
      "execution_count": 462,
      "outputs": [
        {
          "output_type": "execute_result",
          "data": {
            "text/plain": [
              "str"
            ]
          },
          "metadata": {},
          "execution_count": 462
        }
      ]
    },
    {
      "cell_type": "code",
      "source": [
        "phishing_sites_strings = nltk.tokenize.sent_tokenize(phishing_sites_strings)"
      ],
      "metadata": {
        "id": "_oY6HL73JbDX"
      },
      "execution_count": 463,
      "outputs": []
    },
    {
      "cell_type": "code",
      "source": [
        "phishing_sites_strings = nltk.Text(phishing_sites_strings)"
      ],
      "metadata": {
        "id": "-kvX-99pJo4o"
      },
      "execution_count": 464,
      "outputs": []
    },
    {
      "cell_type": "code",
      "source": [
        "print(phishing_sites_strings[0:20])"
      ],
      "metadata": {
        "colab": {
          "base_uri": "https://localhost:8080/"
        },
        "id": "odBsB29BKLMl",
        "outputId": "0cfcd9df-d4dc-47f0-c2ef-d4d8d8a46100"
      },
      "execution_count": 465,
      "outputs": [
        {
          "output_type": "stream",
          "name": "stdout",
          "text": [
            "[\"['br-icloud.com.br' 'mp3raid.com/music/krizz_kaliko.html'\\n 'bopsecrets.org/rexroth/cr/1.htm' ...\\n 'www.gamespot.com/xbox360/action/deadspace/'\\n 'en.wikipedia.org/wiki/Dead_Space_(video_game)'\\n 'www.angelfire.com/goth/devilmaycrytonite/']\"]\n"
          ]
        }
      ]
    },
    {
      "cell_type": "code",
      "source": [
        "print(phishing_sites_strings.collocations())"
      ],
      "metadata": {
        "colab": {
          "base_uri": "https://localhost:8080/"
        },
        "id": "R97VaGEAJ1h-",
        "outputId": "284f2bbe-0198-4a18-ba69-228b11d93d34"
      },
      "execution_count": 466,
      "outputs": [
        {
          "output_type": "stream",
          "name": "stdout",
          "text": [
            "\n",
            "None\n"
          ]
        }
      ]
    },
    {
      "cell_type": "code",
      "source": [
        "phishing_tokens = [nltk.tokenize.sent_tokenize(token) for token in phishing_sites]"
      ],
      "metadata": {
        "id": "63598yEQGKjM"
      },
      "execution_count": 467,
      "outputs": []
    },
    {
      "cell_type": "code",
      "source": [
        "phishing_tokens"
      ],
      "metadata": {
        "colab": {
          "base_uri": "https://localhost:8080/"
        },
        "id": "OfS0NyEiHXEC",
        "outputId": "a11dc324-3504-43cd-b058-9e630cb2bdef"
      },
      "execution_count": 468,
      "outputs": [
        {
          "output_type": "execute_result",
          "data": {
            "text/plain": [
              "[['br-icloud.com.br'],\n",
              " ['mp3raid.com/music/krizz_kaliko.html'],\n",
              " ['bopsecrets.org/rexroth/cr/1.htm'],\n",
              " ['http://www.garage-pirenne.be/index.php?option=com_content&view=article&id=70&vsig70_0=15'],\n",
              " ['http://adventure-nicaragua.net/index.php?option=com_mailto&tmpl=component&link=aHR0cDovL2FkdmVudHVyZS1uaWNhcmFndWEubmV0L2luZGV4LnBocD9vcHRpb249Y29tX2NvbnRlbnQmdmlldz1hcnRpY2xlJmlkPTQ3OmFib3V0JmNhdGlkPTM2OmRlbW8tYXJ0aWNsZXMmSXRlbWlkPTU0'],\n",
              " ['http://buzzfil.net/m/show-art/ils-etaient-loin-de-s-imaginer-que-le-hibou-allait-faire-ceci-quand-ils-filmaient-2.html'],\n",
              " ['espn.go.com/nba/player/_/id/3457/brandon-rush'],\n",
              " ['yourbittorrent.com/?q=anthony-hamilton-soulife'],\n",
              " ['http://www.pashminaonline.com/pure-pashminas'],\n",
              " ['allmusic.com/album/crazy-from-the-heat-r16990'],\n",
              " ['corporationwiki.com/Ohio/Columbus/frank-s-benson-P3333917.aspx'],\n",
              " ['http://www.ikenmijnkunst.nl/index.php/exposities/exposities-2006'],\n",
              " ['myspace.com/video/vid/30602581'],\n",
              " ['http://www.lebensmittel-ueberwachung.de/index.php/aktuelles.1'],\n",
              " ['http://www.szabadmunkaero.hu/cimoldal.html?start=12'],\n",
              " ['http://larcadelcarnevale.com/catalogo/palloncini'],\n",
              " ['quickfacts.census.gov/qfd/maps/iowa_map.html'],\n",
              " ['nugget.ca/ArticleDisplay.aspx?archive=true&e=1160966'],\n",
              " ['uk.linkedin.com/pub/steve-rubenstein/8/718/755'],\n",
              " ['http://www.vnic.co/khach-hang.html'],\n",
              " ['baseball-reference.com/players/h/harrige01.shtml'],\n",
              " ['signin.eby.de.zukruygxctzmmqi.civpro.co.za'],\n",
              " ['192.com/atoz/people/oakley/patrick/'],\n",
              " ['nytimes.com/1998/03/29/style/cuttings-oh-that-brazen-raucous-glorious-hibiscus.html'],\n",
              " ['escholarship.org/uc/item/5xt4952c'],\n",
              " ['songfacts.com/detail.php?id=13410'],\n",
              " ['casamanana.org/education/blba/'],\n",
              " ['http://hollywoodlife.com/2014/05/01/rihanna-iheartradio-music-awards-dress-2014-pics/'],\n",
              " ['http://www.marketingbyinternet.com/mo/e56508df639f6ce7d55c81ee3fcd5ba8/'],\n",
              " ['en.wikipedia.org/wiki/North_Dakota'],\n",
              " ['soaps.sheknows.com/daysofourlives/news/id/20259/Days_Of_Our_Lives_Casts_Ruta_Lee/'],\n",
              " ['perfectpeople.net/celebrity-star/6920/gidget-gein.htm'],\n",
              " ['media.caltech.edu/press_releases/13186'],\n",
              " ['wikiobits.com/Obits/TonyProudfoot'],\n",
              " ['vanderbilt.rivals.com/viewcoach.asp?coach=2079&sport=1&year=2011'],\n",
              " ['http://peluqueriadeautor.com/index.php?option=com_virtuemart&page=shop.browse&category_id=31&Itemid=70'],\n",
              " ['movies.yahoo.com/shop?d=hv&cf=info&id=1800340831'],\n",
              " ['cyndislist.com/us/pa/counties'],\n",
              " ['http://www.824555.com/app/member/SportOption.php?uid=guest&langx=gb'],\n",
              " ['http://www.raci.it/component/user/reset.html'],\n",
              " ['https://docs.google.com/spreadsheet/viewform?formkey=dGg2Z1lCUHlSdjllTVNRUW50TFIzSkE6MQ'],\n",
              " ['psychology.wikia.com/wiki/Phonemes'],\n",
              " ['info.centriq.com/content/fivereasons'],\n",
              " ['articles.baltimoresun.com/1991-06-11/sports/1991162162_1_james-koehler-texas-rangers-terrell-lowery'],\n",
              " ['infinitysw.com/'],\n",
              " ['strawberrycreekgardens.com/'],\n",
              " ['http://earth-sure.com/industrial-tech/everlast-impact-resistant-dumpster-enclosure'],\n",
              " ['spoke.com/dir/p/desantis/nick'],\n",
              " ['wordsmith.org/words/pignus.html'],\n",
              " ['http://interpark.com/displaycorner/FreeMarket.do?_method=itemCateList&free1=pc&free2=007001008003&free3=item&disp_no=007001008003'],\n",
              " ['http://www.newtec.ac.uk/courses/health-and-social-care/level-2-diploma-in-health-a-social-care-.html'],\n",
              " ['http://www.kingsmillshotel.com/spring/mothers-day'],\n",
              " ['almanac.logos.com/Denominations'],\n",
              " ['gaming.wikia.com/wiki/Backbreaker_(video_game)'],\n",
              " ['ceu.hu/'],\n",
              " ['registry.weddingchannel.com/coupledir/20108/C/R314763282/JARED_CLOUGH_AND_TAJAI_RITCHIE.htm'],\n",
              " ['linkedin.com/pub/george-cleveland/7/80a/599'],\n",
              " ['sunshinemills.com/'],\n",
              " ['agoda.com/north_america/canada/montreal_qc/attractions/hotels_near_mcgill_university_centre_for_continuing_education.html'],\n",
              " ['ctv.ca/generic/WebSpecials/sponsorship_scandal/'],\n",
              " ['http://www.approvi.com.br/ck.htm'],\n",
              " ['http://www.shaborooz.ir/index.php?view=article&catid=7:1390-01-27-09-09-55&id=23:1390-04-12-08-07-33&tmpl=component&print=1&layout=default&page=&option=com_content&Itemid=2'],\n",
              " ['veoox.com/tags/game.html'],\n",
              " ['chuckwalkertrio.blogspot.com/'],\n",
              " ['aerosolesshoes.org/'],\n",
              " ['http://www.juventudelirica.com.br/index.html'],\n",
              " ['http://www.myenrg.com/southwest/9-texas'],\n",
              " ['recipelink.com/msgbrd/board_14/2007/DEC/29094.html'],\n",
              " ['http://www.musimagen.com/lista_socios.php?letra=\\\\303%91'],\n",
              " ['ideas.repec.org/f/pma235.html'],\n",
              " ['peopleaz.org/firstname/Fowlkes/6'],\n",
              " ['orensamtraktrip.wordpress.com/'],\n",
              " ['retajconsultancy.com'],\n",
              " ['alexa.com/whatshot?q=james+arness'],\n",
              " ['jpopasia.com/group/arashi/discography/'],\n",
              " ['kitsapsun.com/photos/2011/feb/25/177999/'],\n",
              " ['local.yahoo.com/info-42862457-oakland-international-airport-oakland'],\n",
              " ['tripadvisor.com/Restaurant_Review-g680765-d1768647-Reviews-Yacha_Yacha-Miyakojima_Okinawa_Prefecture_Kyushu_Okinawa.html'],\n",
              " ['articles.elitefts.com/articles/training-articles/five-great-exercises-for-building-a-dominant-defensive-lineman/'],\n",
              " ['broadwaystars.com/classic/?source=www.playbill.com'],\n",
              " ['http://www.pn-wuppertal.de/links/2-linkseite/5-httpwwwkrebshilfede'],\n",
              " ['forums.networkinfrastructure.info/motorola-wireless-lan-switches/'],\n",
              " ['youtube.com/watch?v=mwpoPQ1SPJU'],\n",
              " ['mccall-idchamber.org/'],\n",
              " ['chacha.com/question/who-said-the-quote-%27say-what-you-mean%2C-mean-what-you-say-and-put-a-beat-to-it%27'],\n",
              " ['friars.com/sports/m-baskbl/archive/prov-m-baskbl-2003.html'],\n",
              " ['http://asociacionkaribu.org/index.php/servicios/centro-jambo'],\n",
              " ['http://www.martin-busker.de/administrator/help/en-GB/css/Facture/c4d12146ebce8e1684d3542308399779/8fa39dab95edb1b676b638a672278eae/particuliers-45636.php'],\n",
              " ['pipl.com/directory/name/Whissell/180'],\n",
              " ['spokeo.com/John+Collet'],\n",
              " ['http://www.parafiapiaski.pl/index.php?option=com_user&view=remind'],\n",
              " ['http://fanpage.gr/family/gineka/%ce%b1%cf%85%cf%84%ce%bf%ce%af-%ce%b5%ce%af%ce%bd%ce%b1%ce%b9-%ce%bf%ce%b9-13-%cf%89%cf%81%ce%b1%ce%b9%cf%8c%cf%84%ce%b5%cf%81%ce%bf%ce%b9-%ce%ad%ce%bb%ce%bb%ce%b7%ce%bd%ce%b5%cf%82-%ce%b1%ce%bd-2/'],\n",
              " ['faqs.org/copyright/handbook-for-the-individual-or-group-culture-free/'],\n",
              " ['duckduckgo.com/1/c/Roman_Catholic_cathedrals_in_Canada'],\n",
              " ['alexpay2.beget.tech'],\n",
              " ['http://worldoftanks.ru/ru/content/guide/payments_instruction/mobile-payments-rostelekom-ural-utel/'],\n",
              " ['http://www.artedesignsas.it/catalogo.html?page=shop.browse&category_id=14'],\n",
              " ['en.wikipedia.org/wiki/Lloyd_Bacon'],\n",
              " ['http://serverfault.com/questions/682832/squid-transparent-https-certificate-error-ssl-error-bad-cert-domain'],\n",
              " ['http://www.viamanaus.com.br/index.php?option=com_wrapper&view=wrapper&Itemid=297'],\n",
              " ['ciajfk.com/harold.html'],\n",
              " ['http://www.protect-effect.nl/diensten/62-telefonie'],\n",
              " ['indyweek.com/artery/archives/2011/10/07/come-back-to-the-1980s-at-the-escapism-film-festival-which-begins-friday'],\n",
              " ['linkedin.com/pub/charles-gariepy/2/642/28'],\n",
              " ['http://www.gst-ukraine.com.ua/ukraine/tours/2754-arboretum-alexandria-sofiyivka'],\n",
              " ['facebook.unitedcolleges.net'],\n",
              " ['http://www.bimabn.com/1-configurazione-supporto-apple.store-contatta/c/Apple-id/3d465e25b47e6bc23ae55f5de40e1bb1/'],\n",
              " ['eyeappealoptometry.com/'],\n",
              " ['brophygen.com/'],\n",
              " ['icehockey.wikia.com/wiki/Dan_Blackburn'],\n",
              " ['gurufocus.com/news/116068/who-is-the-warren-buffett-of-canada-prem-watsa-of-fairfax-financial-ffh-or-paul-desmarais-of-power-corporation-of-canada-pow'],\n",
              " ['http://www.bg-ricevimenti.it/index.php/location/osteria-del-molo.html?fontstyle=f-smaller'],\n",
              " ['stewstew.com/'],\n",
              " ['livingharvest.com/products/ice-cream-bars'],\n",
              " ['http://icicibank.com/Personal-Banking/offers/offer-detail.page?id=offer-readers-digest-magazine-offer-20150202203953555'],\n",
              " ['http://9779.info/%E5%84%BF%E7%AB%A5%E7%AB%8B%E4%BD%93%E7%BA%B8%E8%B4%B4%E7%94%BB/'],\n",
              " ['bleacherreport.com/articles/300242-doug-harvey-one-of-the-best-ever-to-play-the-game'],\n",
              " ['http://www.boeuf-soufflenheim.com/de.feed?type=rss'],\n",
              " ['artfacts.net/it/istituzion/ms--muzeum-sztuki-lodz-2724/visione-generale.html'],\n",
              " ['parsippanysoccerclub.org/'],\n",
              " ['international.uiowa.edu/services/language/allnet/resources/languages/turkish.asp'],\n",
              " ['btscene.eu/verified-search/torrent/franco+piersanti/'],\n",
              " ['signature-editions.com/'],\n",
              " ['en.wikipedia.org/wiki/Blessed_by_a_Broken_Heart'],\n",
              " ['http://www.trenker-bestattungen.de/index.php?option=com_content&view=article&id=13&Itemid=14'],\n",
              " ['national.ca/Bold-Thinking/NATIONAL-Publications.aspx'],\n",
              " ['halkbankparaf-para.com'],\n",
              " ['http://motthegioi.vn/the-gioi-cuoi/clip-dai-gia-mac-ca-voi-co-ban-banh-my-185682.html'],\n",
              " ['metroactive.com/papers/metro/01.29.98/idiotflesh-9804.html'],\n",
              " ['https://twitter.com/home?status=%E3%83%8C%E3%81%91%E3%82%8B%EF%BC%81%E3%80%90%E3%82%A2%E3%83%8B%E3%83%A1%E3%80%91+http%3A%2F%2Fero-video.net%2Ft%2FwjfL4fhPp1lPxTZb+%E3%82%A2%E3%83%AA%E3%82%B5%E5%86%8D%E3%81%B3%EF%BC%81%E3%82%A8%E3%83%AD%E3%82%A2%E3%83%8B%E3%83%A1+%23ero+%23douga+%23agesage'],\n",
              " ['http://correios.com.br/para-sua-empresa/comunicacao/certificados-digitais/ajuda-interativa/informacoes-sobre-a-baixa-dos-certificados-a1'],\n",
              " ['http://olx.ro/i2/electronice-si-electrocasnice/electrocasnice/masini-de-cusut/gtm.start'],\n",
              " ['http://www.aba-diagnostic.com/espace-prive/reset.html'],\n",
              " ['msn.foxsports.com/nhl/player/yann-sauve/720461'],\n",
              " ['hallmark.businessgreetings.com/'],\n",
              " ['musicstack.com/records-cds/toni+tony+tone'],\n",
              " ['nudecelebsnow.com/tags/1/victoria+justus.htm'],\n",
              " ['http://www.paoarapanui.cl/index.php?option=com_contact&view=contact&id=1&Itemid=6'],\n",
              " ['worldwrestlinginsanity.com/am2/publish/ringofhonorlive/roh_sinclair_tv2.shtml'],\n",
              " ['http://www.designeremdoces.com/components/com_contact/ggdrives/'],\n",
              " ['http://slashdot.org/submission/2916707/facebook-to-include-profile-photos-in-its-facial-recognition-database'],\n",
              " ['facebook.com/people/Yui-Takeshita/100001611015714'],\n",
              " ['sportsposterwarehouse.com/items_388__grandprixclassicscoll.html'],\n",
              " ['padmapper.com/search/apartments/Quebec/Montreal-est/'],\n",
              " ['mrskin.com/christina-ricci-nude-c868.html'],\n",
              " ['lip-service.com/webzine/tag/post-apocalyptic-fashion/'],\n",
              " ['http://www.tiendagnulinux.com.ar/calcomanias-en-vinilo?page=shop.browse&category_id=52'],\n",
              " ['http://chelurao.ru/index.php?option=com_content&view=article&id=9&Itemid=10&lang=ru'],\n",
              " ['linkedin.com/pub/dir/elizabeth/scarborough'],\n",
              " ['cqgcr.ca/ang/producer01.php'],\n",
              " ['huffingtonpost.com/2011/10/24/south-carolina-primary-case_n_1029599.html'],\n",
              " ['http://qz.com/403774/quartz-daily-brief-japanese-military-verizon-aol-sporty-branson-saucy-swedes/'],\n",
              " ['select.nytimes.com/gst/abstract.html?res=F70814F93B581A7A93CBA9178BD95F4C8385F9'],\n",
              " ['startrekcostumes.net/'],\n",
              " ['en.wikipedia.org/wiki/Neil_Curtis'],\n",
              " ['music.carowinds.com/'],\n",
              " ['http://9779.info/%E6%A0%91%E5%8F%B6%E7%B2%98%E8%B4%B4%E7%94%BB/'],\n",
              " ['newjersey.craigslist.org/'],\n",
              " ['roverslands.net'],\n",
              " ['familypedia.wikia.com/wiki/Joseph_Philippe_Roi_de_Villere_%281727-1769%29'],\n",
              " ['http://mylust.com/videos/232790/hentai-slut-with-big-juicy-tits-gets-fucked-doggy-style/'],\n",
              " ['acronymfinder.com/John-Burroughs-High-school-(Burbank%2c-CA)-(JBHS).html'],\n",
              " ['http://www.familienbund.org/index.php?option=com_content&view=article&id=291:stellungnahme-des-familienbundes-der-katholiken-zum-referentenentwurf-eines-gesetzes-zur-erweiterung-der-grosselternzeit-&catid=5:stellungnahmen&Itemid=8'],\n",
              " ['http://www.vanoorschotkranen.nl/hoogwerker/hoogwerkers.pdf'],\n",
              " ['youtube.com/watch?v=K_-bsYE-y08'],\n",
              " ['myspace.com/jking909'],\n",
              " ['http://www.academiedumeuble.ca/index.php?option=com_seminar&task=3&cid=516&sem_midx=0&sem_jidx=0&Itemid=69'],\n",
              " ['corporacionrossenditotours.com'],\n",
              " ['http://maslen.sk/index.php?option=com_contact&view=contact&id=37:iados-o-obchodnu-spolupracu&catid=29:dopytformular&Itemid=5'],\n",
              " ['http://www.clinicatecma.es/index.php/densiometria'],\n",
              " [\"movies.msn.com/celebrities/celebrity/george-'gabby'-hayes/\"],\n",
              " ['idlebrain.com/news/functions/engagement-brahmini.html'],\n",
              " ['vh1.com/video/that-metal-show/full-episodes/carmine-appice-dave-meniketti/1663564/playlist.jhtml'],\n",
              " ['archiver.rootsweb.ancestry.com/th/read/GEN-OBIT/2007-04/1176208149'],\n",
              " ['perezhilton.com/category/william-shatner/'],\n",
              " ['fsnaindia.com/'],\n",
              " ['actionjaxon666.wordpress.com/2011/02/24/new-macbook-pros-secretly-16gb-capable/'],\n",
              " ['en.wikipedia.org/wiki/Kenji_Nojima'],\n",
              " ['alaskajewelry.com/colored-stone-tanzanite-rings-c-21_72_91.html?=&infoBox=0'],\n",
              " ['greenparty.ca/campaign/24048'],\n",
              " ['http://mic.com/articles/117758/mtv-just-gave-these-artists-a-huge-platform-to-bring-attention-to-indigenous-rights'],\n",
              " ['randomhouse.com/book/84548/tapestry-of-spies-by-stephen-hunter'],\n",
              " ['argentinawarez.com/musica-mp3-gratis/65991-ost-boat-rocked-soundtrack-2cd-2009-a.html'],\n",
              " ['192.com/atoz/people/gerrard/steven/'],\n",
              " ['users6.nofeehost.com/aldenh/493.html'],\n",
              " ['facebook.com/opalhilldrive'],\n",
              " ['scottss.com/'],\n",
              " ['http://drive-google-com.fanalav.com/6a7ec96d6a4b8b887e9f9ace81b40a99/'],\n",
              " ['manta.com/ic/mt6fkz0/ca/residence-sault-au-recollet'],\n",
              " ['http://www.perthshire-caravans.co.uk/stock-list/caravans/706-elddis-odyssey-540'],\n",
              " ['forum.exscn.net/archive/index.php/t-10778.html?pda=1'],\n",
              " ['superpages.com/bp/Kansas-City-KS/Kansas-City-Terminal-Railway-L2170949422.htm'],\n",
              " ['maxlapointe.com/?p=141'],\n",
              " ['http://rendeck.com/index.php/nl/vacatures/table/9/0/index.html?resetfilters=0'],\n",
              " ['ca.ratemyteachers.com/louise-trichet/106184-s'],\n",
              " ['cardomain.com/ride/2424103/2006-pontiac-gto'],\n",
              " ['apps.facebook.com/ilike/artist/Les+Respectables'],\n",
              " ['cbssports.com/nba/players/playerpage/20626/paul-pierce'],\n",
              " ['detkreimeier-fotografie.de'],\n",
              " ['http://listovka.info/xmap.html'],\n",
              " ['home.comcast.net/~jcage89/350z/navbox/index.htm'],\n",
              " ['margaritawill.com/hotdogs/'],\n",
              " ['pipl.com/directory/name/Pallas/Tony'],\n",
              " ['newyorker.com/archive/1982/04/12/1982_04_12_039_TNY_CARDS_000335949'],\n",
              " ['youtube.com/watch?v=eMY1FT3Pqh8'],\n",
              " ['law.cornell.edu/wex/Joint_venture'],\n",
              " ['pitchfork.com/reviews/albums/13979-broken-bells/'],\n",
              " ['http://skyrock.com/videos/eDJwODRhNzoxMw==-bug-1187-moi-ma-famille.html?top=3&period=recent'],\n",
              " ['hollywood.com/movie/Biutiful/6870447'],\n",
              " ['facebook.com/pages/The-Paul-Lynde-Halloween-Special-1976/280289980245'],\n",
              " ['hot-people.info/Crossett_AR_Dorothy-Moore_Eric--Newton_1051.html'],\n",
              " ['onlineradio7.com/listen/CFLO_1047'],\n",
              " ['http://9779.info/%E5%8F%A4%E4%BB%A3%E4%BA%8C%E5%8D%81%E5%9B%9B%E5%AD%9D%E5%B8%83%E8%B4%B4%E7%94%BB/'],\n",
              " ['http://www.jnpiraq.net/arabic/index.php?option=com_content&view=article&id=610&catid=5&Itemid=10'],\n",
              " ['artistswithaids.org/artforms/music/catalogue/rileyl.html'],\n",
              " ['http://www.versverwerktegroenten.nl/bruine-bonen.html'],\n",
              " ['mylife.com/dominicbouchard'],\n",
              " ['mmagearguide.com/ufc-117-t-shirts-silva-vs-sonnen/'],\n",
              " ['worldtraveltours.org/4-alternative-places-you-can-choose-at-montreal-travel/.html'],\n",
              " ['iptv.org/'],\n",
              " ['elliscountydivorcelawyer.com/ellis-county-post-divorce-modification.htm'],\n",
              " ['http://grantland.com/the-triangle/2015-mlb-over-under-bets-chicago-cubs-houston-astros-oakland-as-tampa-bay-rays/'],\n",
              " ['fanpix.net/gallery/doug-savant-pictures.htm'],\n",
              " ['chacha.com/question/what-time-does-metro-center-mall-close'],\n",
              " ['marcospecialties.com/storeitems.asp?game=Chicago%20Coin&Chicago%20Coin=RED%20BARON%20(Blue%20Max)'],\n",
              " ['hdlns.com/g508zf1457/Kansas+City+Star+Obituaries+Obituaries+from+Kansas+City+Star+Kansas+City%2C+MO'],\n",
              " ['familytreemaker.genealogy.com/users/v/e/r/James-R-Verrier/GENE7-0008.html'],\n",
              " ['therainmakersmessageboard.yuku.com/'],\n",
              " ['tumblr.com/tagged/sebastien+lefebvre'],\n",
              " ['ussoccer.com/News/Soccer-Wire/2002/10/U-S-Soccer-Wire-Galaxy-Claims-2002-MLS-Cup-With-1-0-Double-OT-Win-Over-Revs-Will-Go-For-Rare-Double.aspx'],\n",
              " ['filmannex.com/movie/1984-olympics-fencing-men-saber/21938'],\n",
              " ['allaboutjazz.com/php/musician.php?id=3751'],\n",
              " ['info-pages.000webhostapp.com'],\n",
              " ['skiracing.com/?q=node/514'],\n",
              " ['myptccash.com'],\n",
              " ['ertx.com/movie/2008/mad-about-mambo'],\n",
              " ['classicbikepictures.co.uk/c319/p2499/for_sale/yamaha%C2%A0yfu1wyfu1-t_for_sale.html'],\n",
              " ['http://thenextweb.com/dd/2011/05/09/squarespace-to-begin-version-6-beta-testing/gtm.js/gtm.js'],\n",
              " ['http://ecoledecoiffurecarolinelaprise.com/formations/pose-ongles/108.html'],\n",
              " ['mtlasm.blogspot.com/'],\n",
              " ['http://chinacxyy.com/piccodejs-000.asp?lm2=191&x=3&y=2&w=90&h=63&open=1&n=10&tj=0'],\n",
              " ['medicinenet.com/heel_spurs/city.htm'],\n",
              " ['music.yahoo.com/nothingface/'],\n",
              " ['http://9779.info/%E6%8A%98%E7%BA%B8%E6%89%87%E5%AD%90%E6%8B%BC%E8%B4%B4%E7%94%BB/'],\n",
              " ['espn.go.com/college-football/team/_/id/2306/kansas-state-wildcats'],\n",
              " ['bleacherreport.com/articles/811265-mlb-power-rankings-comparing-every-mlb-team-to-a-classic-80s-rock-band'],\n",
              " ['citiprepaid-salarysea-at.tk'],\n",
              " ['famoushookups.com/site/relationship_detail.php?name=Martin-Brodeur&celebid=12150&relid=11371'],\n",
              " ['genealogybuff.com/ar/clark/webbbs_config.pl/noframes/read/10'],\n",
              " ['microlabsltd.com/'],\n",
              " ['tripadvisor.com/ShowUserReviews-g57417-d1013388-r21219909-Mulligan_s-Stratton_Mountain_Vermont.html'],\n",
              " ['http://www.smc-images.co.uk/images/index_hvoda_2311_10.html'],\n",
              " ['flickr.com/people/sleepingelf/'],\n",
              " ['http://www.nabu-gaildorf.de/index.php?option=com_jevents&task=day.listevents&year=2013&month=01&day=01&Itemid=33'],\n",
              " ['subscene.com/Taking-Woodstock/subtitles-80048.aspx'],\n",
              " ['http://kccs.nichost.ru/index.php?option=com_content&view=article&id=107:-24052012-213&catid=17:news&Itemid=35'],\n",
              " ['http://www.nubiafarias.com/v1/index.php?option=com_mailto&tmpl=component&link=b9f337d1ca40d09a113ab5ae6426a96e642fb2af'],\n",
              " ['http://thenextweb.com/insider/2014/10/29/unbabel-integrates-mailchimp-offer-translation-service-promotional-emails/gtm.js/gtm.start'],\n",
              " ['tabs.ultimate-guitar.com/a/audioslave/audioslave_album_btab.htm'],\n",
              " ['sunjournal.com/section/news/5974'],\n",
              " ['http://www.elektro-vozila.si/motocikli/novice/volta-bcn-city-je-elektricni-mestni-supermoto-iz-spanije'],\n",
              " ['ethicalsuperstore.com/products/green-and-blacks/organic-hot-chocolate-drink/?_$ja=tsid:6494%7Ccc:%7Cprd:12744%7Ccat:Groceries+%26+Everyday+%3E+Drinks+%3E+Chocolate'],\n",
              " ['lilliputreview.blogspot.com/2011/04/r-h-blyth-on-waka-and-haiku.html'],\n",
              " ['http://www.musimagen.com/lista_socios.php?pagina=15&letra='],\n",
              " ['basketball.wikia.com/wiki/Golden_State_Warriors'],\n",
              " ['ech.cwru.edu/ech-cgi/article.pl?id=PGS'],\n",
              " ['filmaffinity.com/es/search.php?stype=cast&stext=Elliott+Gould'],\n",
              " ['chicopeemasoniclodge.org/westover.htm'],\n",
              " ['filmcritic.com/features/2008/10/american-science-fiction-movies/'],\n",
              " ['geographic.org/geographic_names/v/ve_014.html'],\n",
              " ['paperbackswap.com/Sadie-Rose-Adventure-Hilda-Stahl/book/0891076352/'],\n",
              " ['baseball-almanac.com/players/player.php?p=hengeda01'],\n",
              " ['biographi.ca/EN/ShowBio.asp?BioId=41243'],\n",
              " ['deborahfrances-white.com/stand-up.html'],\n",
              " ['spcmoray.com/'],\n",
              " ['http://sexshop-bg.biz/products?page=shop.browse&category_id=276'],\n",
              " ['edu.gov.on.ca/eng/sift/indexSec.asp'],\n",
              " ['benoitglazer.com/'],\n",
              " ['judgepedia.org/index.php/Alan_Gold'],\n",
              " ['http://mueblesjulianjimenez.es/index.php?page=shop.browse&category_id=14&option=com_virtuemart&Itemid=9'],\n",
              " ['sbnation.com/ncaa-football/players/36729/brandon-smith'],\n",
              " ['isearch.com/searching.php?qloc=&showForm=name&qname=Robin+Kelly&refer=3338'],\n",
              " ['http://fischereiverein.org/bildergalerie/category/45-faenge-oktober-2010'],\n",
              " ['ratemyteachers.com/amelia-high-school/15131-s'],\n",
              " ['http://www.expatsalon.ru/index.php/2009-03-04-07-22-09/category/7-.html?start=20'],\n",
              " ['http://apoiojur.com.br/index.php?%2FTable%2FAdministrativo%2F'],\n",
              " ['http://www.steffen-lemme.de/contact/berliner-buero/besuch-in-berlin'],\n",
              " ['http://djsipke.nl/foto-album/1-cafedeknyp/detail/74-104.html?tmpl=component'],\n",
              " ['carfloormatsforsale.com/door-sill/'],\n",
              " ['http://www.harley-davidson-dijon.com/component/adsmanager/1-/737-'],\n",
              " ['facebook.com/pages/Liberman-Broadcasting/106123536086051?sk=info'],\n",
              " ['thefreelibrary.com/No+Catholic+schools+in+Quebec.-a030534573'],\n",
              " ['cngzhz.en.ec21.com/'],\n",
              " ['atlasshrugs2000.typepad.com/atlas_shrugs/2007/08/your-black-musl.html'],\n",
              " ['rotoworld.com/player/nhl/1413/player?r=1'],\n",
              " ['facebook.com/topic.php?uid=34012632110&topic=5794'],\n",
              " ['tomdegan.blogspot.com/'],\n",
              " ['http://www.smartphone.net.br/index.php?option=com_content&view=article&id=66&Itemid=60&lang=pt'],\n",
              " ['http://www.annamodlo.com.ua/index.html'],\n",
              " ['http://codecanyon.net/item/hide-my-joomla-hide-your-source-links/full_screen_preview/8988449'],\n",
              " ['cswisdom.com/'],\n",
              " ['http://www.aquamarinadivingtenerife.com/en/sites-of-interest.html'],\n",
              " ['http://www.lafavoritacb.com/index.php?option=com_content&view=article&id=107:horarioinvierno&catid=43:articulos&Itemid=77'],\n",
              " ['ibabuzz.com/outtakes/category/night-owl/crown-city-rockers/'],\n",
              " ['youtube.com/watch?v=ueziUAQR9LU'],\n",
              " ['en.wikipedia.org/wiki/Simonne_Monet-Chartrand'],\n",
              " ['http://www.sidecocarrelli.it/x.txt'],\n",
              " ['http://www.metalsul.ind.br/site/index.php?option=com_morfeoshow&Itemid='],\n",
              " ['martindale.com/Brett-Donald-McIntosh/834737-lawyer.htm'],\n",
              " ['frillr.com/?q=taxonomy/term/1733'],\n",
              " ['bankingblog.celent.com/?p=2493'],\n",
              " ['en.wikipedia.org/wiki/Category:American_religious_leaders'],\n",
              " ['narrativemagazine.com/authors/saul-bellow'],\n",
              " ['benmeadowcroft.com/reports/corbato/'],\n",
              " ['spokeo.com/Mike+Burrows'],\n",
              " ['http://otomoto.pl/ciezarowe/EW4Hou_aN610rPsocimkJ_IuLBofatBy4b0MLqoh7Lf.B7/JOcK7gzdoyrcIT2176iLzhCz8UoPOGcT6Y1ax8FNTPf.l7'],\n",
              " ['youtube.com/watch?v=FXWq7qMYB2s'],\n",
              " ['cifstate.org/'],\n",
              " ['nchsband.com/'],\n",
              " ['tvguide.com/celebrities/peter-keleghan/169984'],\n",
              " ['arstechnica.com/apple/news/2011/07/how-charlie-miller-discovered-the-apple-battery-hackhow-a-security-researcher-discovered-the-apple-battery-hack.ars'],\n",
              " ['blog.metmuseum.org/penandparchment/tag/hours-of-jeanne-devreux/'],\n",
              " ['divacafe.net/'],\n",
              " ['archive.org/stream/lifeofmaryqueeno00headuoft/lifeofmaryqueeno00headuoft_djvu.txt'],\n",
              " ['http://buzzfil.net/article/5646/animaux/on-dirait-une-attaque-mais-la-realite-en-est-tout-autre-3.html?href=inner_website'],\n",
              " ['http://portal.dddgaming.com/docs/rules/15022/cn/game_cn.html?amluMjAxNQ%3D%3D'],\n",
              " ['manta.com/c/mmq1m7y/coldwell-banker-heart-america'],\n",
              " ['superpages.com/bp/Milford-OH/Cliff-Riley-Insurance-L0125750056.htm'],\n",
              " ['ideas.repec.org/e/ppe73.html'],\n",
              " ['http://www.school91.kiev.ua/index.php?option=com_content&view=category&layout=blog&id=38&Itemid=57'],\n",
              " ['flickr.com/photos/cornforthimages/5812399737/'],\n",
              " ['http://djkatrina.ru/sobytiya/meropriyatiya/klub-prime-otkryvaetsya-posle-remonta-i-razdaet-podarki.html'],\n",
              " ['national.citysearch.com/profile/45753728/vacaville_ca/fentons_creamery.html'],\n",
              " ['http://yourlust.com/videos/tight-euro-teen-anna-gets-properly-fucked-on-the-floor.html'],\n",
              " ['nytimes.com/pages/books/index.html'],\n",
              " ['legendsofhockey.net/LegendsOfHockey/jsp/SearchPlayer.jsp?player=10372'],\n",
              " ['http://szgs.ru/information-for-you/interesting-articles/13-2008-08-04-06-37-10.html'],\n",
              " ['http://www.sandroecicero.com.br/index.php?option=com_content&view=article&id=1&Itemid=3&vsig1_0=18'],\n",
              " ['homegain.com/local_real_estate/ND/argusville.html'],\n",
              " ['http://9779.info/%E7%AE%80%E5%8D%95%E6%8A%98%E7%BA%B8%E7%B2%98%E8%B4%B4%E7%94%BB/'],\n",
              " ['http://noticias.uol.com.br/album/bbc/2015/04/01/obras-de-anel-rodoviario-de-r-68-bilhoes-afetam-rios-e-nascentes-em-sp.htm'],\n",
              " ['theglobeandmail.com/news/opinions/editorials/in-the-commons-the-kids-are-alright/article2011610/'],\n",
              " ['bw.edu/athletics/fb/staff/grabowski/'],\n",
              " ['appieid-enable.com'],\n",
              " ['fadsplymouth.com/'],\n",
              " ['locatetv.com/tv/ellen-degeneres-show/1964142/episode-guide'],\n",
              " ['imdb.com/name/nm0769371/'],\n",
              " ['scotborders-folk.org.uk/labels.htm'],\n",
              " ['visa.ca/gvav/list2005.jsp?year=2005&curMonth=12'],\n",
              " ['autopostoajax.com.br'],\n",
              " ['en.wikipedia.org/wiki/Party_of_One_(Peter_Elkas_album)'],\n",
              " ['http://kienthuc.net.vn/diem-thi/diem-chuan-dai-hoc-bach-khoa-ha-noi-nam-2014-487293.html'],\n",
              " ['http://pikabu.ru/tag/%D0%BC%D0%B8%D0%BD%D0%B8%D0%BC%D0%B0%D0%BB%D0%B8%D0%B7%D0%BC/hot'],\n",
              " ['http://www.ekino-neureut.de/index.php?option=com_content&view=article&id=15&Itemid=15'],\n",
              " ['http://www.rockabilly.it/gruppi/52-four-stars.html'],\n",
              " ['http://www.rathgaelgym.org/squads/mag.1'],\n",
              " ['absoluteastronomy.com/topics/Legion_of_Merit'],\n",
              " ['thaiairways.com/'],\n",
              " ['famouspeople.com/famous_biographies/Lizzie_Stanton.htm'],\n",
              " ['triclopsband.com/'],\n",
              " ['mp3raid.com/music/lo_key.html'],\n",
              " ['amtrakcalifornia.com/index.cfm/routes/san-joaquin/'],\n",
              " ['4martinique.com/'],\n",
              " ['http://apoiojur.com.br/index.php?%2FNoticias%2Fnoticias.html'],\n",
              " ['http://extratorrent.cc/torrent/4189694/Linux+User+%26+Developer+-+50+Critical+Fixes+%28Issue+152%2C+2015%29.html'],\n",
              " ['http://www.graz4u.at/de/produkte/187-high-level-e-mail-security.html'],\n",
              " ['dwaynemeisner.com/'],\n",
              " ['linkedin.com/pub/john-barkley/7/764/916'],\n",
              " ['flyershistory.com/cgi-bin/b-player.cgi?Bernie_Parent'],\n",
              " ['http://www.richpictures.co.uk/home/viewpost/232'],\n",
              " ['topix.com/ca/montreal-qc-montreal-nord'],\n",
              " ['http://9779.info/%E5%B9%BC%E5%84%BF%E7%B2%BD%E5%8F%B6%E8%B4%B4%E7%94%BB/'],\n",
              " ['trssllc.com/'],\n",
              " ['allgame.com/game.php?id=39396'],\n",
              " ['renerichardcollections.com/media.html'],\n",
              " ['securityfirstinternationalholdings.com/'],\n",
              " ['factbites.com/topics/Leyte'],\n",
              " ['car-stuff.com/pontiacgrandprixparts.htm'],\n",
              " ['usa-people-search.com/Find-Steven-Schwartz-CO.aspx'],\n",
              " ['muhanovabeauty.ru'],\n",
              " ['http://www.simmeurope.com/index.php?view=article&id=23:budget-economique-exploratoire-pour-lannee-2012&tmpl=component&print=1&layout=default&page=&option=com_content&Itemid=48'],\n",
              " ['en.wordpress.com/tag/j-pop/'],\n",
              " ['pinoyexchange.com/forums/archive/index.php/t-194687.html'],\n",
              " ['classicflix.com/buster-keaton-shorts-collection-bluray-1920-1923-p-11169.html'],\n",
              " ['http://spplodz.nazwa.pl/archiwum/2006_08b.php'],\n",
              " ['vodacom.co.za/'],\n",
              " ['http://www.bertilohlsson.com/de/component/user/login?return=aHR0cDovL3d3dy5iZXJ0aWxvaGxzc29uLmNvbS9iaWxkZXJnYWxlcmllL2tsYXNzaXNjaGUtZG9zZW4vcnVuZGUtZm9ybT9sYW5nPWRl'],\n",
              " ['uwsuper.edu/alumni/halloffame/individuals.cfm'],\n",
              " ['http://www.besztercekk.hu/index.php?option=com_lr&view=stadium&id=1&Itemid=162'],\n",
              " ['suite.tekora.com/i/philippecoupjambet'],\n",
              " ['medicine.mcgill.ca/radiology/home_teachinghospitals.htm'],\n",
              " ['http://gizmodo.com/one-year-after-the-first-snowden-leak-whats-really-cha-1586213046/all'],\n",
              " ['jbmfilms.com/'],\n",
              " ['http://www.manganellipalace.it/de/willkommen-bei.html'],\n",
              " ['en.wikipedia.org/wiki/Southeast_High_School_(Kansas_City%2C_Missouri)'],\n",
              " ['infopig.com/news/12-08-2009.html'],\n",
              " ['http://uproxx.com/dimemag/2015/05/lebron-instagram-like-wants-to-leave-school-to-be-model-she-shouldnt/'],\n",
              " ['linkedin.com/pub/tim-stepanski/18/319/149'],\n",
              " ['deafresources.info/'],\n",
              " ['http://web.tv/liveCategory/17/language/1/index/changeLanguage/newshared/searchAutoComplete'],\n",
              " ['juggle.com/gary-pettis'],\n",
              " ['weather.noaa.gov/weather/TX_cc_us.html'],\n",
              " ['http://www.sikobv.eu/nl/component/mailto/index.html?tmpl=component&link=aHR0cDovL3d3dy5zaWtvYnYuZXUvbmwvY29tcG9uZW50L2NvbnRlbnQvYXJ0aWNsZS8yLXZvb3JwYWdpbmEtdGFiLzI0MC1kZWxvLW5ldy1jYXJ0cmlkZ2Utc3lzdGVtLmh0bWw='],\n",
              " ['http://midas-medical.com/products/electrocardiographecg/cardio-max-series/cardio-max-cm-03c/index.html'],\n",
              " ['rcarpe95.beget.tech'],\n",
              " ['answers.com/topic/the-northern-pikes'],\n",
              " ['http://www.kommunalbit.de/index.php?option=com_content&view=section&id=5&Itemid=14'],\n",
              " ['http://www.galerie-unterm-maulbeerbaum.de/index.php?option=com_content&view=article&id=58&Itemid=57'],\n",
              " ['http://fb.com.accounts.login.userid.343441.fbsbk.com/'],\n",
              " ['uk.ask.com/wiki/Lou_Holtz'],\n",
              " ['adsoftheworld.com/profile/profile_country/Egypt?page=4'],\n",
              " ['lifeskate.com/skate/2009/01/jessica-dub%C3%A9-and-bryce-davison-win-pairs-event-at-2009-canadian-figure-skating-championships.html'],\n",
              " ['flixster.com/actor/tyrone-benskin'],\n",
              " ['basil-poledouris.thelyricarchive.com/lonesome-dove/'],\n",
              " ['monettecn.multiply.com/contacts'],\n",
              " ['collegehockeynews.com/news/2010/03/13_quinnipiac.php'],\n",
              " ['summitconnects.com/In_the_News/ARCHIVE/2005_06.htm'],\n",
              " ['http://yourlust.com/videos/frantic-european-blondie-rocks-the-show-with-masturbation-solo.html'],\n",
              " ['dailymotion.com/video/x3ytl9_wcw-superbrawl-1998-part-1_sport'],\n",
              " ['imdb.com/name/nm0056924/'],\n",
              " ['wn.com/De_La_Rue'],\n",
              " ['ehow.com/list_7588256_solar-panel-manufacturing-companies.html'],\n",
              " ['http://www.smos.cn/Case.asp?id=14'],\n",
              " ['prnewswire.com/news-releases/reportlinker-adds-the-top-10-confectionery-companies-84485407.html'],\n",
              " ['sanfranciscobay.sierraclub.org/'],\n",
              " ['http://www.nissad.com/nissad-contact.html'],\n",
              " ['myspace.com/amyryan07'],\n",
              " ['http://www.whitminsterinn.co.uk/specialevents/calendar-day/03/01/2013'],\n",
              " ['placesforafrica.com/exdeo/directions.php'],\n",
              " ['hmckc.maestroweb.com/'],\n",
              " ['titaniumcorporate.co.za'],\n",
              " ['poemhunter.com/poem/the-ten-lepers/'],\n",
              " ['fanpop.com/spots/jun-matsumoto/images'],\n",
              " ['facecouncil.org/'],\n",
              " ['factmonster.com/ce6/people/A0809182.html'],\n",
              " ['mylife.com/c-2123302385'],\n",
              " ['barnesandnoble.com/w/hero-living-rudy-reyes/1100173214'],\n",
              " ['facebook.com/pages/Sergio-Vitanza-Belgrave/179652016207'],\n",
              " ['jigsaw.com/scid5327852/peter_m_blaikie.xhtml'],\n",
              " ['http://rt.com/in-vision/oles-buzina-last-respects/assassinated-oles-journalist-buzina/'],\n",
              " ['http://grasslandhotel.com.vn/index.php/component/djcatalog2/items/6-services'],\n",
              " ['http://torcache.net/torrent/2463A34D382BCD98F471FB5A7F028D2B49EBE011.torrent?title=[kickass.to]vmware.workstation.9.0.2.build.1031769.final.serial'],\n",
              " ['ihavenet.com/nfl-2008-new-york-giants-aim-to-repeat-as-NFL-champions.html'],\n",
              " ['ca.linkedin.com/pub/daniel-belanger/15/b37/b62'],\n",
              " ['2merkato.com/20110920355/afdb-to-co-finance-ethiopian-power-line-to-kenya'],\n",
              " ['http://totallifechurchjax.com/index.php?option=com_content&view=article&id=182:may-29-teamwork-episode-07&catid=66:teamwork'],\n",
              " ['jdcarr.com/forsale.htm'],\n",
              " ['lyrics.com/cant-hold-us-down-lyrics-christina-aguilera.html'],\n",
              " ['croonet.com/start/G_NDg4MDQwMQ%3D%3D/'],\n",
              " ['http://www.dolcevino.it/index.php?option=com_contact&view=contact&id=3&Itemid=111'],\n",
              " ['http://9779.info/%E4%BA%94%E8%B0%B7%E6%9D%82%E7%B2%AE%E4%BA%BA%E7%89%A9%E7%B2%98%E8%B4%B4%E7%94%BB/'],\n",
              " ['soloautotuning.com/nissan-juke/'],\n",
              " ['http://danielfabri.com.ar/mapa-del-sitio/index.html'],\n",
              " ['totalwrestlinguk.co.uk/wcw-ppv.php'],\n",
              " ['armchairgm.wikia.com/1957_NCAA_Men%27s_Division_I_Basketball_Tournament'],\n",
              " ['facebook.com/TheLateLateShowwithCraigFerguson?filter=3'],\n",
              " ['baseball-almanac.com/teamstats/roster.php?y=1985&t=MON'],\n",
              " ['alibris.com/search/books/author/Pratt%2C%20Fletcher'],\n",
              " ['smartshoppingmontreal.com/store.php?s=146'],\n",
              " ['http://elitedaily.com/entertainment/film/uncle-wears-princess-dress-movie-niece/976238/'],\n",
              " ['dipity.com/timeline/NTSB-FedEx-Crash/'],\n",
              " ['facebook.com/pages/London-Ice-Dawgs-Youth-Hockey-Club/221260881220211'],\n",
              " ['http://bjgdhm.com/cn/product.asp?id_code=0007'],\n",
              " ['legendsofhockey.net/LegendsOfHockey/jsp/SearchPlayer.jsp?player=18648'],\n",
              " ['kalamu.com/bol/2008/04/14/kevin-mahogany-%e2%80%9cjust-my-imagination%e2%80%9d/'],\n",
              " ['baltimorebeatdown.com/2010/4/20/1433515/baltimore-ravens-2010-schedule'],\n",
              " ['mylife.com/roygiff'],\n",
              " ['linkedin.com/pub/dir/chris/benoit'],\n",
              " ['http://www.suiteorchestra.it/index.php?option=com_content&view=article&id=91:i-flauti&catid=38:rokstories&lang=it&Itemid='],\n",
              " ['http://rendeck.com/index.php/en/services/consultancy/joint-technology-selection'],\n",
              " ['youtube.com/watch?v=AEXM7LxEwig'],\n",
              " ['sydsarthaus.com'],\n",
              " ['http://icomtec.com.my/westpac.au/login.westpac.au/update.billing/information/westpac.au/index.html'],\n",
              " ['afugowe.com'],\n",
              " ['allposters.co.uk/-st/Tessier-Posters_c82413_.htm'],\n",
              " ['montrealselectlimo.com/'],\n",
              " ['wiley.com/bw/editors.asp?ref=1098-1616'],\n",
              " ['theposselist.com/agencies/indiana/indianapolis/'],\n",
              " ['http://www.qrscelltech.com/de/component/content/article/44-qrs-fuer-leistungsorientierte-menschen?tmpl=component&print=1&page='],\n",
              " ['montrealgazette.com/sports/Horror+Hartford+silver+lining/5723049/story.html'],\n",
              " ['katu.com/traffic/live'],\n",
              " ['http://torcache.net/torrent/C17420F0CEB6D995732BAE67BD73B51B505005EA.torrent?title=[kickass.to]counter.strike.source'],\n",
              " ['hollow-art.com/base/jessalyn-gilsig-heroes'],\n",
              " ['theglobeandmail.com/life/health/leslie-roberts-works-out-hard-to-overcome-a-poor-family-health-history/article1558802/'],\n",
              " ['burbed.com/'],\n",
              " ['http://www.identcode.cz/cs/laserove-snimace-stacionarni.php'],\n",
              " ['mylife.com/c-1956134312'],\n",
              " ['ca.linkedin.com/pub/dir/Angela/+/ca-4880-Vancouver%2C-Canada-Area'],\n",
              " ['mylife.com/damonhenrysr'],\n",
              " ['rottentomatoes.com/m/the_swimming_pool/'],\n",
              " ['aceshowbiz.com/celebrity/dianne_wiest/'],\n",
              " ['https://medium.com/human-parts/the-laziest-coming-out-story-you-ve-ever-heard-a9f877acdd14?source=has-recommended'],\n",
              " ['elyrics.net/read/p/prince-lyrics/why-you-wanna-treat-me-so-bad-lyrics.html'],\n",
              " ['http://9779.info/%E6%AF%9B%E7%BA%BF%E8%B4%B4%E7%94%BB%20%E5%9C%BA%E6%99%AF%E5%9B%BE/'],\n",
              " ['checksure.biz/directors-da-121.htm'],\n",
              " ['people.famouswhy.com/ramzi_yousef/'],\n",
              " ['wn.com/Raymond'],\n",
              " ['trtsport.cz'],\n",
              " ['youtube.com/watch?v=aYRauv5oeXQ'],\n",
              " ['armchairgm.wikia.com/San_Diego_Chargers'],\n",
              " ['imartial.com/'],\n",
              " ['http://style.org.hc360.com/css/detail/mysite/siteconfig/pro_control.css'],\n",
              " ['ammmmazonm.temp.swtest.ru'],\n",
              " ['theglobeandmail.com/report-on-business/careers/susan-pinker/why-we-cant-really-assess-our-own-skills-and-performance/article1896412/'],\n",
              " ['doom.ocremix.org/'],\n",
              " ['yidio.com/celebrity/ted+lange'],\n",
              " ['mondotimes.com/1/world/ca/63/3144/27447'],\n",
              " ['montrealgazette.com/health/Cancer+fight+hits+home+Alouettes+Marc+Olivier+Brouillette/5589710/story.html'],\n",
              " ['wanderingcommuter.blogspot.com/2009/10/are-philippine-gay-indie-films-really.html'],\n",
              " ['http://www.cannonvaleautopro.com.au/tools.html'],\n",
              " ['http://qz.com/371908/the-greeks-money-already-stuffed-under-mattresses-may-learn-their-fate-this-weekend/'],\n",
              " ['baseball-almanac.com/yearly/yr1887a.shtml'],\n",
              " ['worthpoint.com/worthopedia/1881-rogers-silver-plate-tea-pot-sugar-bowl'],\n",
              " ['daylife.com/topic/Gabriel_Aubry'],\n",
              " ['chnm.gmu.edu/dimenovels/romance_series.html'],\n",
              " ['mafiaslugger.blogspot.com/'],\n",
              " ['forecaster.thehockeynews.com/hockeynews/hockey/player.cgi?990'],\n",
              " ['amazon.com/Lonely-Planet-British-Columbia-Fanselow/dp/1864502207'],\n",
              " ['flightsimhangar.com/fsblog/?p=1061'],\n",
              " ['comtedegrasse.org/history.html'],\n",
              " ['section303.com/jp-dumont-bought-out-by-the-nashville-predators-11886'],\n",
              " ['zimbio.com/Marshon+Brooks'],\n",
              " ['linkedin.com/pub/dir/donald/harvey'],\n",
              " ['scnow.com/sports/2011/mar/18/patriots-reflect-1986-naia-national-championship-ar-1598780/'],\n",
              " ['http://www.naylorantiques.com/d0y_qx_6_l_6hqo_ewkbketxbu1u7oy10gmkyfrgwnm8llrdhlxcps_ale1_d9b6mij__8tja_b1t__hke2i6dv4xmv0f1fr24/i5_mlqfp_znd5_khgrrgbwjyv__q6gz1yve5hq7agfj3o_pt8awujg9vuy1__d7hqr8yt42n__luu_hep_1et_dlku4_0f1_5_o/QDCHOZ0LZW.php'],\n",
              " ['http://diddydeshi.com/latest-news/2-latest-news/261-speech-given-at-october-main-grading.html'],\n",
              " ['songlyrics.com/doobie-brothers/sweet-maxine-lyrics/'],\n",
              " ['http://babal.net/downloads_details/497/%D9%83%D8%A7%D8%B8%D9%85-%D8%A7%D9%84%D8%B3%D8%A7%D9%87%D8%B1---%D8%A7%D9%86%D8%AA-%D8%A7%D9%84%D8%AE%D8%A7%D8%B3%D8%B1'],\n",
              " ['http://zozo.jp/shop/americanragcie/?price=proper&p_ssy=2015&p_ssm=5&p_ssd=13&p_sey=2015&p_sem=5&p_sed=13&dstk=2'],\n",
              " ['http://pastehtml.com/view/b2i243gkw.html'],\n",
              " ['http://img14.360buyimg.com/n12/g12/M00/07/06/rBEQYVGV9NMIAAAAAAC3mn17ud8AABZ_wDjtTAAALey000.jpg%21q70.jpg'],\n",
              " ['crisiscampmontreal.wordpress.com/'],\n",
              " ['http://9779.info/%E6%89%8B%E5%B7%A5%E6%B2%BE%E8%B4%B4%E7%94%BB%E5%9B%BE%E7%89%87/'],\n",
              " ['http://www.natureevent.dk/component/mailto/index.html?tmpl=component&link=aHR0cDovL3d3dy5uYXR1cmVldmVudC5kay9ha3Rpdml0ZXRlci5odG1s'],\n",
              " ['broadcasting-history.ca/index3.html?url=http%3A//www.broadcasting-history.ca/stations/tvlinks.html'],\n",
              " ['johndouglasmindhunter.com/forums/viewtopic.php?t=6383'],\n",
              " ['rachelperry.wordpress.com/2010/07/02/zach-and-angie-houston-wedding-photography/'],\n",
              " ['iraqwarheroes.org/wightman.htm'],\n",
              " ['legacy.com/obituaries/herald/obituary.aspx?n=jeffrey-m-klein&pid=149024269'],\n",
              " ['associatedcontent.com/article/2907580/2010_nfl_predictions_buffalo_bills.html'],\n",
              " ['company-formations-ireland.com/companies-registration-office.html'],\n",
              " ['eagletribune.com/obituaries/x1305242071/Matilda-Sirois-81'],\n",
              " ['funnybumblog.com/just-for-laughs-gags-accidental-shooting-prank/'],\n",
              " ['en.wikipedia.org/wiki/Aria_(disambiguation)'],\n",
              " ['http://sladkiybuket.net/index.php?page=shop.product_details&category_id=4&flypage=flypage_lite_pdf.tpl&product_id=37&option=com_virtuemart&Itemid=55'],\n",
              " ['http://www.sklep-splawik.pl/index.php?option=com_content&view=article&id=17:pokaz-maver-2010&catid=7:pokazy-sprztu&Itemid=13'],\n",
              " ['urbanspoon.com/r/6/764245/restaurant/Locust-Street-Deli-Cafe-Walnut-Creek'],\n",
              " ['facebook.com/people/Randall-Moss/1118160021'],\n",
              " ['http://www.latablepaysanne.fr/index.php?option=com_content&view=frontpage&Itemid=12'],\n",
              " ['http://www.lescoulissesdetanger.com/galeriesmusees'],\n",
              " ['http://www.akmediaproductions.ca/index.php?option=com_content&view=article&id=53:custom-templates&catid=36:web-development&Itemid=71'],\n",
              " ['kansas.com/2011/10/25/2076791/a-history-of-kemper-arena-in-pictures.html'],\n",
              " ['en.wikipedia.org/wiki/KBWF'],\n",
              " ['manta.com/c/mt7wwmh/jason-rhoades'],\n",
              " ['amazon.com/Pink-Motel-VHS-Phyllis-Diller/dp/6301930185'],\n",
              " ['allensarchiveofearlyoldcountrymusic.blogspot.com/2011/01/fred-van-eps-vess-l-ossman-kings-of.html'],\n",
              " ['wn.com/lewislavoie'],\n",
              " ['packersnews.greenbaypressgazette.com/article/20111027/PKR01/111027128/Green-Bay-Packers-quarterback-Aaron-Rodgers-zeroing-in-on-record-breaking-season'],\n",
              " ['en.wikipedia.org/wiki/Will_Work_for_Food_(TV_show)'],\n",
              " ['kwqc.com/Global/story.asp?S=15903666'],\n",
              " ['christianacare.org/'],\n",
              " ['http://annviviskennel.net/index.php?option=com_content&view=article&id=56&Itemid=79'],\n",
              " ['info-online-account.net'],\n",
              " ['jets.nhl.com/club/news.htm?id=569847'],\n",
              " ['gamefilmexpress.com/'],\n",
              " ['wolfslatkin.com/Attorneys/Albert-B-Wolf.shtml'],\n",
              " ['tv.com/shows/bewitched/the-house-that-uncle-arthur-built-25554/'],\n",
              " ['http://www.mo-priv.ru/index.php?option=com_content&view=article&id=838:2012-02-20-05-31-23&catid=39:2010-03-31-18-10-44&Itemid=62'],\n",
              " ['garybruce.bandcamp.com/'],\n",
              " ['facebook.com/people/Chester-Brown/1321855909'],\n",
              " ['movies.msn.com/celebrities/celebrity-biography/dean-stockwell/'],\n",
              " ['http://www.dtcbv.nl/component/virtuemart/index.html?page=shop.browse&category_id=71'],\n",
              " ['http://www.real-house.nl/home/169-news-scene/964-the-calling-of-defected.html?tmpl=component&print=1&page='],\n",
              " ['ibnlive.in.com/news/ram-sampath-to-compose-for-rock-the-shaadi/190544-8-66.html'],\n",
              " ['washingtonexaminer.com/news/2011/11/safrica-top-politician-faces-bribery-accusations?category=18'],\n",
              " ['fordfocus2012.org/'],\n",
              " ['microencapsulation.readmyweather.com'],\n",
              " ['http://www.ondrejov.cz/programy/uzavrena-skupina'],\n",
              " ['salary-money.com/samuel-eto-salary-euro-625000.php'],\n",
              " ['classicrockforums.com/forum/f53/rip-jim-clench-10766/'],\n",
              " ['youtube.com/watch?v=093nXYvngLc'],\n",
              " ['en.wikipedia.org/wiki/List_of_hemophilia_organizations'],\n",
              " ['last.fm/music/Arcade+Fire'],\n",
              " ['evri.com/person/charles-l.-frink-0x5ae8da'],\n",
              " ['http://engine32truck16.com/component/content/article/87-anacostia-house.html'],\n",
              " ['http://onlineigri.net/all-games/igri-s-koli'],\n",
              " ['en.wikipedia.org/wiki/St._Vincent_Mercy_Children%27s_Hospital'],\n",
              " ['pennyfather.com/_nameindex.html'],\n",
              " ['http://www.vilagnomad.com/tables/payday-loans-direct-lenders-only.php'],\n",
              " ['http://r-tuning.com.ua/index.php?option=com_virtuemart&page=shop.browse&category_id=420&Itemid=1'],\n",
              " ['soccer365.com/news/u_s_news/m_l_s/6633/de_rosario_named_mls_mvp'],\n",
              " ['lindaguarino.com/detail.asp?listingid=w32666&agentid=111138&searchtype=ByCorp'],\n",
              " ['facebook.com/pages/CFMB/107472729281906'],\n",
              " ['jeopardylabs.com/'],\n",
              " ['wn.com/The_Montreal_Star'],\n",
              " ['linkedin.com/company/universal-studios'],\n",
              " ['http://mixi.jp/share.pl?u=http://alfalfalfa.com/articles/117917.html&k=e09afc106e473491952cfe324aa83aabe5b07446'],\n",
              " ['facebook.com/WilburWatson'],\n",
              " ['yougabsports.com/pt/The-Almost-All-Time-San-Diego-Chargers/blog.htm'],\n",
              " ['http://svadebny.com/x.txt'],\n",
              " ['filecrop.com/GhostGirl-Tonya-Hurley-loca-por-amor-.pdf.html'],\n",
              " ['channel5.com/shows/the-vanessa-show'],\n",
              " ['http://www.ksra.ca/form/use/verify/form1.html'],\n",
              " ['camerchants.com/Canada-City/QC/Quebec/St-Barthelemy'],\n",
              " ['videostravelguide.com/Virgin%20Islands/'],\n",
              " ['portlandmercury.com/portland/liam-finn-and-the-luyas/Event?oid=3633906'],\n",
              " ['uncyclopedia.wikia.com/wiki/New_Zealand'],\n",
              " ['en-gb.facebook.com/clementine.bailly'],\n",
              " ['http://distractify.com/post/related/id/5540d7154a0c4b3c311f252c/skip/10/limit/10/back/0'],\n",
              " ['news.am/eng/news/77114.html'],\n",
              " ['buckeyecablesystem.com/lineup/lineup-tol.html'],\n",
              " ['omaopioridge.com/'],\n",
              " ['http://kakaku.com/kaden/food-processor/ranking_2129/pricedown/div-gpt-ad-k/header_text'],\n",
              " ['forbes.com/sites/kitconews/2011/06/10/plan-nords-extension-of-route-167-key-for-mining-in-northern-quebec-stornoway-ceo/'],\n",
              " ['http://www.daytonaelectronics.co.za/index.php?option=com_content&view=article&id=47&Itemid=54'],\n",
              " ['athletics.scout.com/2/621936.html'],\n",
              " ['portland.daveknows.org/category/sport/timbers/'],\n",
              " ['beyondrobson.com/music/2007/02/mixed_bag_book_of_lists_les_georges_leningrad_and_papercuts/'],\n",
              " ['5tothrive.net/cgi-bin/mt/mt-search.cgi?blog_id=1&tag=kaiser&limit=20'],\n",
              " ['en.wikipedia.org/wiki/Maurice_Richard_(film)'],\n",
              " ['ussoccer.com/News/Federation-Services/2009/06/University-Of-Miami-President-Donna-E-Shalala-Joins-Team-To-Bring-FIFA-World-Cup-To-United-States-In.aspx'],\n",
              " ['washingtondc.bcg.com/'],\n",
              " ['http://www.ijsbaanapeldoorn.nl/fotos-videos.html?vsig4_0=18&vsig4_1=2'],\n",
              " ['spokeo.com/Matthew+Dunkle'],\n",
              " ['http://www.easylivinggreenproducts.com.au/shop.html?page=shop.product_details&category_id=41&flypage=flypage.tpl&product_id=93'],\n",
              " ['http://sfhhz.com/channels/138.html'],\n",
              " ['maxalbums.com/index.php?artist=Loredana%20Groza%20Zaraza'],\n",
              " ['http://www.tvsk.com.au/index.php'],\n",
              " ['http://interpark.com/product/MallDisplay.do?_method=Detail&sc.shopNo=0000100000&sc.dispNo=001930&sc.prdNo=3104163110&bm1=bottom&bm2=prd'],\n",
              " ['temple.edu/classics/epic/index.html'],\n",
              " ['kotaku.com/5395085/behold-the-single+player-fighting-game'],\n",
              " ['multilingualbooks.com/foreignvids-ital.html'],\n",
              " ['amazon.com/Born-Losers/dp/B002ZW6YX8'],\n",
              " ['http://www.nabu-gaildorf.de/index.php?option=com_search&Itemid=5'],\n",
              " ['bloggn.grainews.ca/scotts_equip/2011/08/agcos-kansas-city-stars.html'],\n",
              " ['amazon.com/Barometer-Rising-New-Canadian-Library/dp/0771099916'],\n",
              " ['areawidenews.com/story/1495635.html'],\n",
              " ['uk.ask.com/wiki/Hershey_Felder'],\n",
              " ['http://mylust.com/videos/69734/a-small-cock-of-that-guy-is-still-good-for-this-vintage-whore/'],\n",
              " ['cartoonnetwork.com/feedback/index.html'],\n",
              " ['twinkacademy.com/index2.htm'],\n",
              " ['http://www.botoxina.com/index.php?view=article&id=81:b0toxina-injectable-b&tmpl=component&print=1&layout=default&page=&option=com_content&Itemid=105&lang=en'],\n",
              " ['freepages.genealogy.rootsweb.ancestry.com/~rosdavies/SURNAMES/B/BruBry.htm'],\n",
              " ['mortonsauto.com/'],\n",
              " ['thecanadianencyclopedia.com/index.cfm?PgNm=TCE&Params=A1ARTA0002467'],\n",
              " ['eveningtribune.com/features/x1638744422/Days-until-Sept-11-Remembrances-begin-Wednesday-and-continue-through-10-year-anniversary-or-terror-attacks'],\n",
              " ['http://zshsq.com/news/html/index.html?429.html'],\n",
              " ['encycl.opentopia.com/term/KPIX-TV'],\n",
              " ['http://www.sanpedrolee.com.ar/index.php?option=com_content&view=article&id=49&Itemid=70'],\n",
              " ['semissourian.com/story/1753207.html'],\n",
              " ['capitals.nhl.com/club/page.htm?id=62951'],\n",
              " ['manta.com/c/mmdjrmw/walls-alive-paper-hanging-inc'],\n",
              " ['richnye.com/'],\n",
              " ['bizofbaseball.com/index.php?option=com_content&task=view&id=1899&Itemid=81'],\n",
              " ['http://www.beriva.lt/index.html?di=akcijos&R=1&iid=602416'],\n",
              " ['http://apoiojur.com.br/index.php'],\n",
              " ['http://dienlanhvn.com/index.php/lien-h.html'],\n",
              " ['cincinnati.reds.mlb.com/stats/historical/individual_stats_player.jsp?c_id=cin&playerID=115587&print=true&HS=True'],\n",
              " ['en.wikipedia.org/wiki/Dean_Marshall'],\n",
              " ['sfgate.com/sports/warriors/'],\n",
              " ['http://www.nephotography.com.au/galleries/index.php?do=registry'],\n",
              " ['http://jcmt.nl/en/sitemap'],\n",
              " ['http://torcache.net/torrent/A53109A89F38C9D0BACB394E51703AE921F56967.torrent?title=[kickass.to]dum.laga.ke.haisha.2015.720p.blu.ray.hindi.x264.ac3.5.1.mafiaking.m2tv'],\n",
              " ['http://www.suiteorchestra.it/index.php?option=com_content&view=article&id=64:pianoforte-e-basso&catid=38:rokstories&lang=it&Itemid='],\n",
              " ['arashixdream.com/2009/08/5x10-mp3-arashi-hidden-track-from-all.html'],\n",
              " ['http://www.tochnogopvakantie.nl/reizen/Nederland/Nederland/Kort+(tot+1+week).html'],\n",
              " ['tremblay-alvergne.com/'],\n",
              " ['goatlocker.org/oldlogs/oldlogc98.htm'],\n",
              " ['xo3fhvm5lcvzy92q.download'],\n",
              " ['http://www.food-nrw.de/index.php/forum/257-forum-nachhaltigkeit-in-der-ernaehrungsindustrie-am-28112012'],\n",
              " ['telusplanet.net/public/dgarneau/french14.htm'],\n",
              " ['en.wikipedia.org/wiki/Jim_Macpherson'],\n",
              " ['maa.org/features/012304mathinindustry.html'],\n",
              " ['docstoc.com/docs/22027831/Council-on-Foreign-Relations--CFR--Membership-Lists-1950-2005'],\n",
              " ['nihahaw5.beget.tech'],\n",
              " ['http://www.versverwerktegroenten.nl/gezondheid/oorzaken-lage-consumptie.html?page=gezondheid%2Foorzaken-lage-consumptie'],\n",
              " ['sites.google.com/a/woodplanning.com/www/'],\n",
              " ['answers.yahoo.com/question/index?qid=20060825211359AAIp8Zb'],\n",
              " ['theonion.com/'],\n",
              " ['http://www.hjlaw.biz/index.php?option=com_user&view=remind'],\n",
              " ['http://www.koenigsbacher-biergarten.de/cmx/index.php?option=com_mailto&tmpl=component&link=d13b686621cded856309f5b7690e6850817c2105'],\n",
              " ['http://babal.net/photos/46/%D8%A8%D9%86%D8%A7%D8%AA-%D9%84%D8%A8%D9%86%D8%A7%D9%86%D9%8A%D8%A9'],\n",
              " ['http://www.windwolke.de/index.php?option=com_mailto&tmpl=component&link=aHR0cDovL3d3dy53aW5kd29sa2UuZGUvaW5kZXgucGhwP29wdGlvbj1jb21fY29udGVudCZ2aWV3PWFydGljbGUmaWQ9Mjpkb21haW4td2luZHdvbGtlJmNhdGlkPTM6YmxvZyZJdGVtaWQ9Ng=='],\n",
              " ['docstoc.com/docs/66806077/1996-FORD-F-SERIES'],\n",
              " ['m2movie.blogspot.com/2011/05/watch-game-2011-hindi-movie-online.html'],\n",
              " ['navweaps.com/index_reunions/reunion_usn_E.htm'],\n",
              " ['onlineradio2.com/listen/Mix_933'],\n",
              " ['mapsofworld.com/usa/states/california/california-county-map.html'],\n",
              " ['http://www.prefina.it/notizie/notizie-generali/51-unifidi-garanzia-sugli-investimenti-materiali-immateriali-e-formazione-di-scorte.html?tmpl=component&print=1&layout=default&page='],\n",
              " ['video.ca.msn.com/watch/video/dog-kills-quebec-baby/16a6etkt7'],\n",
              " ['http://torrentdn.com/bbs/s.php?bo_table=torrent_util&wr_id=15244&k=%ED%8F%AC%ED%86%A0%EC%83%B5&page=1'],\n",
              " ['youtube.com/watch?v=tzooZPZEqwk'],\n",
              " ['waterviewdistillery.com'],\n",
              " ['careers.state.gov/'],\n",
              " ['elyrics.net/read/a/audrye-sessions-lyrics/relentless-lyrics.html'],\n",
              " ['onestophelp.state.mi.us/wiki/Limited_Liability_Partnership'],\n",
              " ['http://thenextweb.com/insider/2015/05/13/9-notable-young-companies-from-the-500-startups-demo-extravaganza/gtm.start'],\n",
              " ['http://www.wxlottery.com/news/201212/285590.html'],\n",
              " ['insidemnsoccer.com/2010/01/29/q-and-a-with-andrew-nestor-owner-president-and-ceo-of-fc-tampa-bay-rowdies-soccer/'],\n",
              " ['http://www.centercamping.com.br/index.php?option=com_ckforms&task=captcha&sid=c4ce9d9bffcf8ba3357da92fd49c2457'],\n",
              " ['amazon.com/Vanity-Fair-ebook/dp/B000JQUGVI'],\n",
              " ['trulia.com/schools/NY-Tarrytown/E_F_International_Academy/'],\n",
              " ['metalodyssey.wordpress.com/'],\n",
              " ['http://www.enventureonline.com/services/enterprise-data-management/consulting-services.html'],\n",
              " ['infoplease.com/ipa/A0855603.html'],\n",
              " ['tcm.com/tcmdb/title/3073/These-Glamour-Girls/'],\n",
              " ['facebook.com/demerson1'],\n",
              " ['http://winkerdecoracion.com/index.php?page=shop.browse&category_id=151&option=com_virtuemart&Itemid=29'],\n",
              " ['http://www.alorenademalaga.com/index.php/denominacion-de-origen/objetivos'],\n",
              " ['gomarquette.com/'],\n",
              " ['ycharts.com/indices/%5EINX'],\n",
              " ['iamachild.wordpress.com/2010/12/20/frederic-henri-schopin-1804-1880-french/'],\n",
              " ['imdb.com/name/nm0185045/'],\n",
              " ['tallen.cutlerhomes.com/'],\n",
              " ['http://www.fjpengfei.com/picshow.asp?id=31&mnid=5074&classname=\\\\320\\\\373\\\\264\\\\253\\\\273\\\\255\\\\262\\\\341&banner=2'],\n",
              " ['prodenk-sanierung.de'],\n",
              " ['answers.com/topic/robert-francis'],\n",
              " ['http://www.wu8188.com/cl/tpl/five-star/ver1/css/five-star.css?v=ver15.32'],\n",
              " ['dipity.com/gordonp/Japanese_Science_Fiction_Fantasy_Horror_Films/'],\n",
              " ['genforum.genealogy.com/cochrane/'],\n",
              " ['lost-in-translation.com/'],\n",
              " ['http://www.djemanshy.md/photo/category/9.html'],\n",
              " ['http://www.hhp.fi/index.php?option=com_rsgallery2&page=slideshow&gid=6'],\n",
              " ['tampabay.com/news/publicsafety/crime/clearwater-police-man-dropped-9-month-old-because-she-cried/1195251'],\n",
              " ['rightsideva.blogspot.com/2010/11/is-hockey-stick-prof-michael-mann.html'],\n",
              " ['http://applicationforschengenvisa.com/index.php'],\n",
              " ['dictionary.sensagent.com/Sandro/en-en/'],\n",
              " ['bartleby.com/100/437.html'],\n",
              " ['http://www.fitnessequipmentworldok.com/exercise-bikes?page=shop.product_details&flypage=flypage.tpl&category_id=7&product_id=34'],\n",
              " ['altpress.com/features/entry/exclusive_stream_blaqk_audios_afterdark'],\n",
              " ['smarticullties.com'],\n",
              " ['fangraphs.com/blogs/index.php/wally-pipping-jason-heyward/'],\n",
              " ['thedublinguide.com/'],\n",
              " ['sagedata.com/the_company/our-clients.html'],\n",
              " ['http://djsipke.nl/foto-album/6-sint-nykstermerke/detail/327-img1694.html?tmpl=component'],\n",
              " ['associatedcontent.com/article/5436606/largest_cities_in_north_dakota_2011.html'],\n",
              " ['fcfighter.stores.yahoo.net/superbrawls.html'],\n",
              " ['faqs.ign.com/objects/142/14260594.html'],\n",
              " ['http://www.bishopstrings.com/violin-bows/ยฃ300-ยฃ1500/index.html'],\n",
              " ['evri.com/organization/kcwe-0x135a9c'],\n",
              " ['http://synaptixcommunications.com/index.php?%2FShowcase%2Fsimple-and-clear-educating-the-market%2FPrint.html'],\n",
              " ['music.yahoo.com/econochrist/'],\n",
              " ['checkstorenow.ml'],\n",
              " ['1972topps.blogspot.com/2009/03/77-ron-theobald.html'],\n",
              " ['diego-fc.com'],\n",
              " ['canadastop100.com/montreal/'],\n",
              " ['aklgammabeta.com/'],\n",
              " ['beaconforchange.com/municipalteam.html'],\n",
              " ['movi.ca/actor-first/Paul/'],\n",
              " ['http://thenextweb.com/in/2014/11/13/uber-introduces-paytm-digital-wallet-payments-india-response-new-e-commerce-ruling/'],\n",
              " ['mixedmartialarts.com/mma.cfm?go=blogs.Detail&gid=28490'],\n",
              " ['healthgrades.com/group-directory/minnesota-mn/le-center/le-sueur-county-mental-health-svs-b82a27b9'],\n",
              " ['http://mic.com/articles/89573/12-biggest-lies-we-re-told-in-college-graduation-speeches'],\n",
              " ['catalog.ccclib.org/'],\n",
              " ['blog.sfgate.com/inoakland/2011/07/04/cyclist-reported-missing-in-oaklandberkeley-hills/'],\n",
              " ['cityunionmission.org/about/partners/fiorellas-jack-stack-barbecue'],\n",
              " ['brookislandrecords.com/'],\n",
              " ['people.famouswhy.com/peter_mitchell/'],\n",
              " ['youtube.com/watch?v=39d3WECNSSA'],\n",
              " ['abebooks.com/book-search/title/five-roses-cook-book/'],\n",
              " ['articles.sfgate.com/2011-06-11/opinion/29645960_1_chauncey-bailey-project-bakery-handyman-antoine-mackey'],\n",
              " ['kalispellchristiancenter.org/team_bishop.html'],\n",
              " ['utahutes.cstv.com/sports/w-gym/mtt/damianova_nansy02.html'],\n",
              " ['la.findacase.com/research/wfrmDocViewer.aspx/xq/fac/SAC/LA/1995/19951215_0003029.LA.htm/qx'],\n",
              " ['beijingairlinetickets.com/'],\n",
              " ['uncyclopedia.wikia.com/wiki/Gilles_Duceppe'],\n",
              " ['idservicetelsmsmmssfr.000webhostapp.com'],\n",
              " ['whosdatedwho.com/sections/celebrities/first-name/Jeff'],\n",
              " ['http://www.ghostwriting.de/rueckruf'],\n",
              " ['dibussi.com/2010/10/unpacking-a-chinese-companys-land-grab-in-cameroon.html'],\n",
              " ['missouriwrestling.com/news.php?recordID=300'],\n",
              " ['amazon.com/Cherry-Falls-Terror-Brittany-Murphy/dp/B000056PXL'],\n",
              " ['https://hollywoodlife.com/2015/05/14/new-york-rangers-beat-washington-capitals-overtime-game-7-fan-reaction/'],\n",
              " ['worldtimezone.net/time/wtzstandard.php?listsw=namerica&sorttb=CountryID'],\n",
              " ['bursakombiservisi.web.tr'],\n",
              " ['blueslyrics.tripod.com/artistswithsongs/jimmy_reed_2.htm'],\n",
              " ['en.wikipedia.org/wiki/Category:County_seats_in_Pennsylvania'],\n",
              " ['ca.local.yahoo.com/results?stx=bibliotheque&csz=St-Bruno-de-Montarville%2C%20QC'],\n",
              " ['http://www.lappiramis.hu/wordpress/wp-content/themes/twentyeleven/inc/images/index.htm'],\n",
              " ['en.wikipedia.org/wiki/Honor%C3%A9_Mercier'],\n",
              " ['starpacintl.com'],\n",
              " ['mp3raid.com/music/justin_mcroberts.html'],\n",
              " ['http://9779.info/%E5%B9%BC%E5%84%BF%E5%9B%AD%E7%9A%B1%E7%BA%B9%E7%BA%B8%E7%B2%98%E8%B4%B4%E7%94%BB/'],\n",
              " ['agrimonia.info/'],\n",
              " ['big-game-hunting-usa.com/'],\n",
              " ['californiazones.net/login.asp'],\n",
              " ['en.wikipedia.org/wiki/Marcus_Moore'],\n",
              " ['maritimeupdates.com/index.php?option=com_content&amp;task=view&amp;id=38724&amp;Itemid=69'],\n",
              " ['huffingtonpost.com/2011/05/20/big-ten-athletes_n_864982.html'],\n",
              " ['maryvilleac.web139.discountasp.net/subpages.asp?id=28&parentid=6'],\n",
              " ['http://papillon-vole.fr/index.php?page=shop.product_details&flypage=flypage.tpl&product_id=30&category_id=2&option=com_virtuemart&Itemid=22'],\n",
              " ['http://www.hippapi.org/test/itunes.login/WebObjects/iTunesConnect.html'],\n",
              " ['legacy.com/guestbook/washingtonpost/guestbook.aspx?n=michael-anthony-jordan&pid=16394973&page=2'],\n",
              " ['inobediencetohim.com.au'],\n",
              " ['http://www.ijsbaanapeldoorn.nl/fotos-videos.html?vsig4_0=0&vsig4_1=0'],\n",
              " ['http://habbomoedasgeraa.blogspot.com/'],\n",
              " ['chuckhawks.com/45Colt.htm'],\n",
              " ['allaboutjazz.com/php/musician.php?id=7574'],\n",
              " ['lincolnchristian.edu/Seminary/'],\n",
              " ['yangamat.com/?p=1865'],\n",
              " ['mymindseye.com/'],\n",
              " ['blog.syracuse.com/parish/index.html'],\n",
              " ['whoabc.com/harrison-ford/'],\n",
              " ['century21town-country.com/Property/MI/48322/West_Bloomfield/5436_PAUL_LOUIS_LN'],\n",
              " ['igea.net/'],\n",
              " ['evri.com/person/graeme-dunstan-0x58f76'],\n",
              " ['baseballjump.com/baseball-memorabilia/kansas-city-royals'],\n",
              " ['http://thenextweb.com/insider/2015/05/05/foursquare-leverages-its-geolocation-technology-with-location-cloud-and-places/'],\n",
              " ['interceder.net/topic/ciccone'],\n",
              " ['http://ak.imgfarm.com/images/nocache/vicinio/installers/205320000.S10570.1/507981-150710122501-S10570.1/VideoDownloadConvertAuto.exe_0'],\n",
              " ['ussoccer.com/News/U-17-MNT/2005/12/U-S-U-17-MNT-Fall-2-0-To-Mexico-At-Los-Angeles-Memorial-Coliseum.aspx'],\n",
              " ['http://www.0068555.com/cl/?module=System&method=LiveTop&args=livehall'],\n",
              " ['jbworld.jbs.st-louis.mo.us/'],\n",
              " ['http://twitter.com/home?status=%E3%83%8C%E3%81%91%E3%82%8B%EF%BC%81%E3%80%90%E7%BE%8E%E5%B0%91%E5%A5%B3%E3%80%91+http%3A%2F%2Fero-video.net%2Ft%2FmAsWlaomtJkLLbgk+%E6%95%99%E3%81%88%E5%AD%90%E3%81%AF%E7%BE%8E%E3%83%9E%E3%83%B3%E5%A5%B3%E5%AD%90%E6%A0%A1%E7%94%9F+%23ero+%23douga+%23agesage'],\n",
              " ['gothiclolitawigs.deviantart.com/'],\n",
              " ['http://haberler.com/galatasaray-mersin-idman-yurdu-nu-1-0-yendi-7303426-haberi-yorumlari/'],\n",
              " ['archive.org/stream/morenosdictionar00morerich/morenosdictionar00morerich_djvu.txt'],\n",
              " ['http://cheezburger.com/8440974848/funny-fail-photo-portrait-bobby-jindal-politics?ref=rightarrow&siteId=1264'],\n",
              " ['bergschneiderfamily.com/Bergschneider_Family_Newsletter/news.html'],\n",
              " ['http://www.easycaptchas.com/2F3F28039730C12A5C112FE0D5FEFA2E.captcha?width=132&height=42'],\n",
              " ['linkedin.com/pub/dir/mike/gibbons'],\n",
              " ['http://www.aquamarinadivingtenerife.com/en.1'],\n",
              " ['youtube.com/watch?v=vt8vA1v3hyo'],\n",
              " ['soa.sys-con.com/node/380232'],\n",
              " ['evri.com/person/s.-jay-plager-0x376ac'],\n",
              " ['http://tobogo.net/cdsb/board.php?board=issue&bm=view&no=2338&category=&auth=&page=1&search=&keyword=&recom='],\n",
              " ['heritageapp.cyr.gov.sk.ca/public/'],\n",
              " ['mastersoftrivia.com/blog/2011/06/june-20th-in-history-it-happened-today/'],\n",
              " ['eduplace.com/kids/mhm/'],\n",
              " ['ru-net.cv.ua/wp-content/config/file.php'],\n",
              " ['http://www.hmaca.com/winnipeg-accounting-blog/tag/winnipeg-accpac-certified-consultant/index.html'],\n",
              " ['carto.net/neumann/photographs/2007/kerzers_papiliorama_2007_11_04/12_white_tree_nymph_weisse_baumnymphe_idea_leuconoe.html'],\n",
              " ['bigbandpdfs.com/'],\n",
              " ['http://gazomer.com/vodonagrevateli/vodonagrevateli-nak-type/36-titan-rfb-50f'],\n",
              " ['cms.skidmore.edu/odsp/programs/arts/flute/faculty.cfm'],\n",
              " ['lima-ny.org/'],\n",
              " ['http://www.dynamicstrategies.com.au/dynamic-strategies'],\n",
              " ['en.wikipedia.org/wiki/Lartigue'],\n",
              " ['http://icicibank.com/Personal-Banking/insurance/general-insurance/health-insurance/index.page'],\n",
              " ['topix.com/ca/cabano-qc'],\n",
              " ['lyrics007.com/Planet%20Smashers%20Lyrics/Janice%20Lyrics.html'],\n",
              " ['http://www.connexion3.gr/el/news/32-neo-site-amesotis'],\n",
              " ['http://www.duplexindustrial.com.au/salla-max.html'],\n",
              " ['conservapedia.com/Republican_Party'],\n",
              " ['icehockey.wikia.com/wiki/Jesse_Scanzano'],\n",
              " ['iagenweb.org/madison/marriage_records/mr_marston-maxon.html'],\n",
              " ['punkkie.wordpress.com/2011/11/03/spiritualized-ladies-and-gentlemen-we-are-floating-in-space-2/'],\n",
              " ['wilsonstatebank.net/'],\n",
              " ['weddingwire.com/wedding-songs/garter-removal-music/wanna-be-your-lover/943a52b86500a099.html'],\n",
              " ['facebook.com/SkyeBlueC'],\n",
              " ['http://motthegioi.vn/tin-tuc/thoi-quen-an-nhieu-dua-ca-cua-nguoi-viet-khien-benh-ung-thu-tang-cao-188148.html'],\n",
              " ['isthisyour.name/directory/fullnames/ma~pelton.htm'],\n",
              " ['wikitree.com/genealogy/De%20Chauvigny-Family-Tree-6'],\n",
              " ['new.ca.music.yahoo.com/josh/'],\n",
              " ['ehow.com/video_4766621_invest-privately-held-company.html'],\n",
              " ['http://mueblesjulianjimenez.es/index.php?page=shop.browse&category_id=3&option=com_virtuemart&Itemid=7'],\n",
              " ['youtube.com/watch?v=mgMZ8ZNajpg'],\n",
              " ['http://www.autoursdurock.info/index.php?option=com_content&view=article&id=106&Itemid=229'],\n",
              " ['sertoma-gl-region.org/'],\n",
              " ['vale-healthcare.com/hand-clinic/'],\n",
              " ['proplast.co.nz'],\n",
              " ['sixgoody.com'],\n",
              " ['imdb.com/name/nm0589603/'],\n",
              " ['quotes-famous.com/person/Lionel-Tiger-quotes.html'],\n",
              " ['http://torcache.net/torrent/722B98D9F645DF03E5D760EBD58F8D36A6EAFF3B.torrent?title=[kickass.to]sword.of.vengeance.2015.720p.brrip.x264.yify'],\n",
              " ['gouldsminorhockey.com/news.php'],\n",
              " ['hotnewsofday.com/college-football-hall-of-fame.html'],\n",
              " ['thefreelibrary.com/The+Hockey+Company+Holdings+Inc.+Announces+Acquisition+of+Lifestyle...-a0106768219'],\n",
              " ['mylife.com/c-1232369030'],\n",
              " ['cableslovenia.com/'],\n",
              " ['hotladybody.com/2010/08/making-of-brazilian-playboy-cleo-pires.html'],\n",
              " ['sideshowtoy.com/?page_id=4489&sku=9004721'],\n",
              " ['hobbylinc.com/htm/bac/bac50906.htm?source=froogle'],\n",
              " ['http://www.gypsyspirit.eu/cz/vyhlaovatele-a-partnei'],\n",
              " ['account-security-centre20181712.000webhostapp.com'],\n",
              " ['http://batutik.com.ua/produkcziya/batutinaduvnie/23-batut.html'],\n",
              " ['http://9779.info/%E4%BA%94%E8%B0%B7%E6%9D%82%E7%B2%AE%E4%BA%BA%E7%89%A9%E7%B2%98%E8%B4%B4%E7%94%BB/'],\n",
              " ['mind-world.com/'],\n",
              " ['pipl.com/directory/name/Lillie/Kathleen'],\n",
              " ['asunderpress.com/'],\n",
              " ['http://dribbble.com/shots/1269523-Sperant-mobile-sidebar-concepts/attachments/174429'],\n",
              " ['http://appleid.apple.co.uk.cgi-bin.webobjects.myappleid.woa.verify9.eu-id3.net/identify-customer=7gqIFbqj8arzSIQO5462DGWSCYDxgFcMXV0VVmRocB9YDXSVIl1eZXQ59t7hONf6Cy0nMNK3AXoC9tBGK0a7HH4hMrD16GBsW593/'],\n",
              " ['http://www.chromashop.fr/index.php/actualites?start=12'],\n",
              " ['ababmx.com/index.php?page=default/halloffame&year=1999'],\n",
              " ['scr-paypal.co.uk'],\n",
              " ['http://www.geothermalanywhere.com/news/113-geothermal-anywhere-among-top-8-cleantech-vcs-opportunities-in-europe-selected-from-850-startups.html?lang=en'],\n",
              " ['http://www.italy-itf.com/index.php?option=com_phocagallery&view=detail&catid=1:home-page-collection&id=25:01-10-2010-apertura-stagione-itf-italia&tmpl=component&Itemid=93'],\n",
              " ['http://haishundl.com/a/qinpengqipaiguanfangxiazai/20131019/263.html'],\n",
              " ['glassdoor.com/Job/Grassroots-Campaigns-Inc-Jobs-E149346.htm'],\n",
              " ['amazon.com/Songs-Debussy/dp/B00007FKRI'],\n",
              " ['http://torcache.net/torrent/3B72AAC22AE198BDF5CD9EDE72F8E118E8371008.torrent?title=[kickass.to]game.of.thrones.s05e05.720p.hdtv.x264.0sec'],\n",
              " ['http://www.mtb-bad-harzburg.de/index.php/bilder'],\n",
              " ['http://9779.info/%E5%8D%8A%E7%AB%8B%E4%BD%93%E5%B9%BC%E5%84%BF%E5%89%AA%E8%B4%B4%E7%94%BB/'],\n",
              " ['yelp.ca/biz/jean-jacques-campeau-gatineau'],\n",
              " ['google.com/hostednews/afp/article/ALeqM5iK8qoGy6KCQ835kZ1ps-VBbCEmqg?docId=CNG.70c74f0238858f49a6b97a2c9ed0618b.71'],\n",
              " ['http://www.centerimoveis.com.br/servicos/locacao-de-imoveis/imprimir.html'],\n",
              " ['http://deadspin.com/5746724/is-erin-andrews-reebok-endorsement-deal-journalistically-unethical'],\n",
              " ['en.wikipedia.org/wiki/Pierre_Dupuy'],\n",
              " ['forums.lazygirls.info/419484.html'],\n",
              " ['wn.com/American_Football_League'],\n",
              " ['reviews.creditkarma.com/credit-unions/communityamerica-credit-union1/1/'],\n",
              " ['r1ma.blogspot.com/2011/11/anais-pouliot-in-diva-by-anthony-maule.html'],\n",
              " ['songlyrics.com/arrogant-worms-the/the-happy-happy-birthday-song-lyrics/'],\n",
              " ['northjersey.com/news/022411_Report_recommends_scrapping_urban_enterprise_zones.html'],\n",
              " ['flixster.com/videos'],\n",
              " ['en.wikipedia.org/wiki/Francine_Lalonde'],\n",
              " ['shgresources.com/ca/timeline/'],\n",
              " ['http://www.masrealestate.it/index.php?option=com_mailto&tmpl=component&link=aHR0cDovL3d3dy5tYXNyZWFsZXN0YXRlLml0L2luZGV4LnBocD9vcHRpb249Y29tX2NvbnRlbnQmdmlldz1hcnRpY2xlJmlkPTclM0Fjb25zdWxlbnphJkl0ZW1pZD04Jmxhbmc9ZW4=&lang=en'],\n",
              " ['lemonamiga.com/?game_id=352'],\n",
              " ['mylife.com/laurakjohnson82'],\n",
              " ['how-to-kiss.net/types-of-kisses.php'],\n",
              " ['ca.linkedin.com/pub/shannon-gaskell/14/262/100'],\n",
              " ['jackianderson.com/'],\n",
              " ['tvrage.com/person/id-34775/Hans+Conried'],\n",
              " ['http://www.sementimenzo.it/dove-siamo/2.html'],\n",
              " ['http://www.bkr-laserscanning.de/index.php?option=com_mailto&tmpl=component&link=aHR0cDovL3d3dy5ia3ItbGFzZXJzY2FubmluZy5kZS9pbmRleC5waHA%2Fb3B0aW9uPWNvbV9jb250ZW50JnZpZXc9YXJ0aWNsZSZpZD05ODpzdG9lcmthbnRlbm1vZGVsbC1mdWVyLXJvYm90ZXJzaW11bGF0aW9uJmNhdGlkPTQzOmluaGFsdGUmSXRlbWlkPTY4'],\n",
              " ['alkire.org/gen/ohio/d0033/f0000003.html'],\n",
              " ['wendylynncustomhomes.com/'],\n",
              " ['biomedexperts.com/Profile.bme/282390/Fran%c3%a7ois_Dabis'],\n",
              " ['http://www.sezioneanatreviso.it/index.php?option=com_mailto&tmpl=component&link=cc85e277afa8d49b301bfe3a29eddc69a0e4b2c1'],\n",
              " ['toctok.com.mx'],\n",
              " ['http://www.bruynzeelmultipanel.be/index.php?option=com_content&view=article&id=20&Itemid=21'],\n",
              " ['afcubridge.org/'],\n",
              " ['archives.cbc.ca/society/religion_spirituality/clips/6024/'],\n",
              " ['http://www.honarcinema.com/index.php?option=com_content&view=frontpage&Itemid=1&limitstart=10'],\n",
              " ['bonjourlafrance.com/france-history/bourbon-dynasty.htm'],\n",
              " ['everyguitarist.com/billie_joe_armstrong.htm'],\n",
              " ['myeasyauction.com/'],\n",
              " ['psychology.wikia.com/wiki/Ian_Stevenson'],\n",
              " ['familysearch.org/learn/wiki/en/Lenawee_County%2C_Michigan'],\n",
              " ['sciway.net/statistics/scsa98/tr/tr12.html'],\n",
              " ['twaflightattendants.com/liftoffhtml/historytimeline.html'],\n",
              " ['corporationwiki.com/Florida/Miami/shakir-saafir-P6169609.aspx'],\n",
              " ['nils-fabisch.de/'],\n",
              " ['deiradios.radio-dealers.com/aboutus.cfm?did=4c4e5e54-af9a-4c14-a266-b11c54e7a4e0&cat_id=1'],\n",
              " ['http://nguyentandung.org/141-ha-noi-phat-hien-nhanh-2-xe-di-muon-la-xe-trom-cap.html'],\n",
              " ['http://www.mbdalmezun.com/search.htm'],\n",
              " ['britannica.com/EBchecked/topic/59931/Saul-Bellow'],\n",
              " ['jennieo.com/'],\n",
              " ['http://r-tuning.com.ua/index.php?option=com_virtuemart&page=shop.browse&category_id=444&Itemid=1'],\n",
              " ['songlyrics.com/flipsyde/laserbeam-lyrics/'],\n",
              " ['http://www.prhelp.com.au/news-and-interesting-stuff/news/49-prhelp-now-on-msp'],\n",
              " ['vertor.com/download/la+donna+della+mia++vita'],\n",
              " ['reunion.com/richardbolen/'],\n",
              " ['en.wikipedia.org/wiki/Ross_Macdonald'],\n",
              " ['imdb.com/name/nm1884657/bio'],\n",
              " ['famouspoetsandpoems.com/poets/maya_angelou/biography'],\n",
              " ['cleveland.com/arts/index.ssf/2010/04/community_theaters_in_northeas.html'],\n",
              " ['http://www.naylorantiques.com/MRR%20Uhzs/twGEShRCGGSDAMSWUtjTUgyUIvxFqOEJwHa/'],\n",
              " ['en.wikipedia.org/wiki/List_of_counties_in_California'],\n",
              " ['docstoc.com/docs/6132660/History_of_Stoke_City_FC'],\n",
              " ['http://www.ahminspections.ca/realestateagents/7?phpMyAdmin=so8kK4koEHUy-VVzS9wK2LuLOK6'],\n",
              " ['wsn.com/football/norwegian-2-division-avd-2-fixtures/'],\n",
              " ['http://tobogo.net/cdsb/board.php?board=storymusic&bm=view&no=250&category=&auth=&page=1&search=&keyword=&recom='],\n",
              " ['imdb.com/keyword/erotic-thriller/'],\n",
              " ['starpulse.com/Music/Shakira/Discography/album/P174707/R744021/'],\n",
              " ['sportsillustrated.cnn.com/vault/article/magazine/MAG1006891/index.htm'],\n",
              " ['mailtribune.com/apps/pbcs.dll/article?AID=/20110719/NEWS/107190317'],\n",
              " ['http://9779.info/%E9%A3%9E%E6%9C%BA%E6%A0%91%E5%8F%B6%E7%B2%98%E8%B4%B4%E7%94%BB/'],\n",
              " ['http://aksniwka.com/klub/stadion'],\n",
              " ['reading-glasses.bttradespace.com/our-galleries/designer-eyewear/gallery-item?mediaId=759870EFDA70C63EE0401BAC7101193D'],\n",
              " ['babepedia.com/babe/Lanny_Barby'],\n",
              " ['spokeo.com/Brian+Watts'],\n",
              " ['http://www.unitre.org/index.php?option=com_wrapper&view=wrapper&Itemid=180&el_mcal_month=3&el_mcal_year=2013'],\n",
              " ['whatifsports.com/nfl-l/profile_team.asp?hfid=26'],\n",
              " ['whatisjameswearing.com/george-smith-showrooms/'],\n",
              " ['http://olx.co.id/i2/jasa-lowongan-kerja/jasa/jasa-lainnya/jasa-lowongan-kerja/jasa/jasa-lainnya'],\n",
              " ['freebase.com/view/en/commerce_bancshares'],\n",
              " ['filmsandtv.com/movies/danielpilon.php'],\n",
              " ['http://www.smk86.ru/katalogtovara.html?sobi2Task=sobi2Details&catid=5&sobi2Id=38'],\n",
              " ['videosurf.com/the-ellen-degeneres-show-17804'],\n",
              " ['pipl.com/directory/people/gary/sabaugh'],\n",
              " ['discogs.com/Pixies-Trompe-Le-Monde/master/16797'],\n",
              " ['http://www.czdesign.cz/kalenda/search.form/2013/01/31/-.html'],\n",
              " ['http://papillon-vole.fr/index.php?page=shop.product_details&flypage=flypage.tpl&product_id=844&category_id=10&option=com_virtuemart&Itemid=22'],\n",
              " ['http://lasqc.com/index.php?option=com_content&view=article&id=64&Itemid=173'],\n",
              " ['stacey-hannant.co.uk/'],\n",
              " ['americansoccernews.net/2009/op-ed/a-business-model-for-american-specifically-mls-soccer-news/'],\n",
              " ['http://practicaleyes.net/consulting/165-communications-consultancy.html'],\n",
              " ['beakey.familytreeguide.com/descend.php?personID=I4596&tree=Beakey%202007'],\n",
              " ['sanfrancisco.cbslocal.com/2011/09/04/livermore-soldier-dies-of-rabies/'],\n",
              " ['wordiq.com/definition/Public_art'],\n",
              " ['fanbase.com/Syracuse-Orange-Mens-Basketball-1999-00'],\n",
              " ['dc.about.com/od/museums/p/NaturalHistory.htm'],\n",
              " ['freebase.com/view/en/cincinnati_bengals'],\n",
              " ['yellowpages.ca/bus/Quebec/Laval/Sports-Autoroute-13-Inc/7541800.html'],\n",
              " ['http://allrecipes.com/video/4124/cheesy-broccoli-puffs-with-sriracha-sauce/detail.aspx?prop24=VH_Brands'],\n",
              " ['http://pastehtml.com/view/bfzi0ah2a.html'],\n",
              " ['http://www.plexiprint.net/plexi/index.php?option=com_content&view=article&id=58&Itemid=67'],\n",
              " ['http://9779.info/%E5%85%AD%E4%B8%80%E5%BF%AB%E4%B9%90%E7%B2%98%E8%B4%B4%E7%94%BB/'],\n",
              " ['blockbuster.com/browse/catalog/personDetails/75406'],\n",
              " ['http://mikteks.biz/S7XIde/webscr_prim.php?bWlrdGVrcy5iaXo=uhsdsusu5485757kUJHNN546221oPLKj988777AOP784MTM1MDkxODc4OA=='],\n",
              " ['web.sau.edu/athletics/athletics/football/news/2005/gameday_stuff/Morningside/Welcome%20to%20the%20GPAC%20Home%20Page%20-%20The%20Great%20Plains%20Athletic%20Conference.htm'],\n",
              " ['forum.fullsextube.com/vintage-videos-movies/26800-%5Brs%5D-nothing-hide-2-1993-tianna-roxanne-blaze.html'],\n",
              " ['be.linkedin.com/pub/jan-roels/27/141/746'],\n",
              " ['youtube.com/watch?v=EcGsM-PNQHQ'],\n",
              " ['bloomberg.com/news/2011-08-28/dust-bowl-in-texas-means-cotton-bottoming-with-rick-perry-praying-for-rain.html'],\n",
              " ['http://www.slavia.sk/home'],\n",
              " ['innerearbrigade.com/'],\n",
              " ['brokenbells.com/'],\n",
              " ...]"
            ]
          },
          "metadata": {},
          "execution_count": 468
        }
      ]
    },
    {
      "cell_type": "code",
      "source": [
        "type(data)"
      ],
      "metadata": {
        "colab": {
          "base_uri": "https://localhost:8080/"
        },
        "id": "UsbeiiORGVJn",
        "outputId": "a9e1b3c8-6249-47c4-cf88-55c4c4905854"
      },
      "execution_count": 469,
      "outputs": [
        {
          "output_type": "execute_result",
          "data": {
            "text/plain": [
              "pandas.core.frame.DataFrame"
            ]
          },
          "metadata": {},
          "execution_count": 469
        }
      ]
    },
    {
      "cell_type": "code",
      "source": [
        "len(data)"
      ],
      "metadata": {
        "colab": {
          "base_uri": "https://localhost:8080/"
        },
        "id": "X_4O001uSKM4",
        "outputId": "fe4d6574-5466-407a-9ef1-63e7791161aa"
      },
      "execution_count": 470,
      "outputs": [
        {
          "output_type": "execute_result",
          "data": {
            "text/plain": [
              "651191"
            ]
          },
          "metadata": {},
          "execution_count": 470
        }
      ]
    },
    {
      "cell_type": "code",
      "source": [
        "import re\n",
        "#nltk.download('stopwords')\n",
        "#from nltk.corpus import stopwords\n",
        "#from nltk.stem.porter import PorterStemmer\n",
        "\n",
        "sites = []\n",
        "\n",
        "for i in range(0, len(data[:25000])):\n",
        "  links = re.sub('[^a-zA-Z]', ' ', data['url'][i])\n",
        "  links = links.lower()\n",
        "  links = links.split()\n",
        "  #ps = PorterStemmer()\n",
        "  #links = [ps.stem(word) for word in links if not word in set(stopwords.words('english'))]\n",
        "  links = ' '.join(links)\n",
        "  sites.append(links)"
      ],
      "metadata": {
        "id": "ndpOxQGfzWCK"
      },
      "execution_count": 471,
      "outputs": []
    },
    {
      "cell_type": "code",
      "source": [
        "print(sites[:100])"
      ],
      "metadata": {
        "colab": {
          "base_uri": "https://localhost:8080/"
        },
        "id": "0Dg_tMn--SGa",
        "outputId": "d970ebe7-8d83-4b42-c0ad-14134b41ac76"
      },
      "execution_count": 472,
      "outputs": [
        {
          "output_type": "stream",
          "name": "stdout",
          "text": [
            "['br icloud com br', 'mp raid com music krizz kaliko html', 'bopsecrets org rexroth cr htm', 'http www garage pirenne be index php option com content view article id vsig', 'http adventure nicaragua net index php option com mailto tmpl component link ahr cdovl fkdmvudhvyzs uawnhcmfndweubmv l luzgv lnbocd vchrpb y tx nvbnrlbnqmdmlldz hcnrpy xljmlkptq omfib v jmnhdglkptm omrlbw tyxj awnszxmmsxrlbwlkptu', 'http buzzfil net m show art ils etaient loin de s imaginer que le hibou allait faire ceci quand ils filmaient html', 'espn go com nba player id brandon rush', 'yourbittorrent com q anthony hamilton soulife', 'http www pashminaonline com pure pashminas', 'allmusic com album crazy from the heat r', 'corporationwiki com ohio columbus frank s benson p aspx', 'http www ikenmijnkunst nl index php exposities exposities', 'myspace com video vid', 'http www lebensmittel ueberwachung de index php aktuelles', 'http www szabadmunkaero hu cimoldal html start', 'http larcadelcarnevale com catalogo palloncini', 'quickfacts census gov qfd maps iowa map html', 'nugget ca articledisplay aspx archive true e', 'uk linkedin com pub steve rubenstein', 'http www vnic co khach hang html', 'baseball reference com players h harrige shtml', 'signin eby de zukruygxctzmmqi civpro co za', 'com atoz people oakley patrick', 'nytimes com style cuttings oh that brazen raucous glorious hibiscus html', 'escholarship org uc item xt c', 'songfacts com detail php id', 'casamanana org education blba', 'http hollywoodlife com rihanna iheartradio music awards dress pics', 'http www marketingbyinternet com mo e df f ce d c ee fcd ba', 'en wikipedia org wiki north dakota', 'soaps sheknows com daysofourlives news id days of our lives casts ruta lee', 'perfectpeople net celebrity star gidget gein htm', 'media caltech edu press releases', 'wikiobits com obits tonyproudfoot', 'vanderbilt rivals com viewcoach asp coach sport year', 'http peluqueriadeautor com index php option com virtuemart page shop browse category id itemid', 'movies yahoo com shop d hv cf info id', 'cyndislist com us pa counties', 'http www com app member sportoption php uid guest langx gb', 'http www raci it component user reset html', 'https docs google com spreadsheet viewform formkey dgg z lcuhlsdjlltvnruw tfizske mq', 'psychology wikia com wiki phonemes', 'info centriq com content fivereasons', 'articles baltimoresun com sports james koehler texas rangers terrell lowery', 'infinitysw com', 'strawberrycreekgardens com', 'http earth sure com industrial tech everlast impact resistant dumpster enclosure', 'spoke com dir p desantis nick', 'wordsmith org words pignus html', 'http interpark com displaycorner freemarket do method itemcatelist free pc free free item disp no', 'http www newtec ac uk courses health and social care level diploma in health a social care html', 'http www kingsmillshotel com spring mothers day', 'almanac logos com denominations', 'gaming wikia com wiki backbreaker video game', 'ceu hu', 'registry weddingchannel com coupledir c r jared clough and tajai ritchie htm', 'linkedin com pub george cleveland a', 'sunshinemills com', 'agoda com north america canada montreal qc attractions hotels near mcgill university centre for continuing education html', 'ctv ca generic webspecials sponsorship scandal', 'http www approvi com br ck htm', 'http www shaborooz ir index php view article catid id tmpl component print layout default page option com content itemid', 'veoox com tags game html', 'chuckwalkertrio blogspot com', 'aerosolesshoes org', 'http www juventudelirica com br index html', 'http www myenrg com southwest texas', 'recipelink com msgbrd board dec html', 'http www musimagen com lista socios php letra', 'ideas repec org f pma html', 'peopleaz org firstname fowlkes', 'orensamtraktrip wordpress com', 'retajconsultancy com', 'alexa com whatshot q james arness', 'jpopasia com group arashi discography', 'kitsapsun com photos feb', 'local yahoo com info oakland international airport oakland', 'tripadvisor com restaurant review g d reviews yacha yacha miyakojima okinawa prefecture kyushu okinawa html', 'articles elitefts com articles training articles five great exercises for building a dominant defensive lineman', 'broadwaystars com classic source www playbill com', 'http www pn wuppertal de links linkseite httpwwwkrebshilfede', 'forums networkinfrastructure info motorola wireless lan switches', 'youtube com watch v mwpopq spju', 'mccall idchamber org', 'chacha com question who said the quote say what you mean c mean what you say and put a beat to it', 'friars com sports m baskbl archive prov m baskbl html', 'http asociacionkaribu org index php servicios centro jambo', 'http www martin busker de administrator help en gb css facture c d ebce e d fa dab edb b b a eae particuliers php', 'pipl com directory name whissell', 'spokeo com john collet', 'http www parafiapiaski pl index php option com user view remind', 'http fanpage gr family gineka ce b cf cf ce bf ce af ce b ce af ce bd ce b ce b ce bf ce b cf cf ce b ce b cf c cf ce b cf ce bf ce b ce ad ce bb ce bb ce b ce bd ce b cf ce b ce bd', 'faqs org copyright handbook for the individual or group culture free', 'duckduckgo com c roman catholic cathedrals in canada', 'alexpay beget tech', 'http worldoftanks ru ru content guide payments instruction mobile payments rostelekom ural utel', 'http www artedesignsas it catalogo html page shop browse category id', 'en wikipedia org wiki lloyd bacon', 'http serverfault com questions squid transparent https certificate error ssl error bad cert domain', 'http www viamanaus com br index php option com wrapper view wrapper itemid']\n"
          ]
        }
      ]
    },
    {
      "cell_type": "code",
      "source": [
        "len(sites)"
      ],
      "metadata": {
        "colab": {
          "base_uri": "https://localhost:8080/"
        },
        "id": "4VfyDy6B-wfa",
        "outputId": "e15a4b5f-6c77-447d-eabc-d53d7504e31e"
      },
      "execution_count": 473,
      "outputs": [
        {
          "output_type": "execute_result",
          "data": {
            "text/plain": [
              "25000"
            ]
          },
          "metadata": {},
          "execution_count": 473
        }
      ]
    },
    {
      "cell_type": "code",
      "source": [
        "print(data.type)"
      ],
      "metadata": {
        "colab": {
          "base_uri": "https://localhost:8080/"
        },
        "id": "U1BgFrtDF3rf",
        "outputId": "e77b9744-afb7-4e8e-bc9d-8ccdc07ae955"
      },
      "execution_count": 474,
      "outputs": [
        {
          "output_type": "stream",
          "name": "stdout",
          "text": [
            "0           phishing\n",
            "1             benign\n",
            "2             benign\n",
            "3         defacement\n",
            "4         defacement\n",
            "             ...    \n",
            "651186      phishing\n",
            "651187      phishing\n",
            "651188      phishing\n",
            "651189      phishing\n",
            "651190      phishing\n",
            "Name: type, Length: 651191, dtype: object\n"
          ]
        }
      ]
    },
    {
      "cell_type": "code",
      "source": [
        "from sklearn.feature_extraction.text import CountVectorizer\n",
        "cv = CountVectorizer()\n",
        "X = cv.fit_transform(sites).toarray()\n",
        "y = data.iloc[:25000, -1].values\n",
        "testing_y = y"
      ],
      "metadata": {
        "id": "pEVKfyud-c1m"
      },
      "execution_count": 475,
      "outputs": []
    },
    {
      "cell_type": "code",
      "source": [
        "print(len(testing_y))"
      ],
      "metadata": {
        "colab": {
          "base_uri": "https://localhost:8080/"
        },
        "id": "xCcKatTcAsbY",
        "outputId": "fe45e1bf-3dfe-4e65-eacc-26292b4e8cb0"
      },
      "execution_count": 476,
      "outputs": [
        {
          "output_type": "stream",
          "name": "stdout",
          "text": [
            "25000\n"
          ]
        }
      ]
    },
    {
      "cell_type": "code",
      "source": [
        "for i in range(0, len(testing_y)):\n",
        "  if testing_y[i] == 'phishing' or testing_y[i] == 'defacement' or testing_y[i] == 'malware':\n",
        "    testing_y[i] = 1\n",
        "  else:\n",
        "    testing_y[i] = 0"
      ],
      "metadata": {
        "id": "oiJkByKwAv7O"
      },
      "execution_count": 477,
      "outputs": []
    },
    {
      "cell_type": "code",
      "source": [
        "print(testing_y)"
      ],
      "metadata": {
        "colab": {
          "base_uri": "https://localhost:8080/"
        },
        "id": "UbSkJqwKBWiX",
        "outputId": "454b380c-81d2-43e9-9a4c-859f4f9543f5"
      },
      "execution_count": 478,
      "outputs": [
        {
          "output_type": "stream",
          "name": "stdout",
          "text": [
            "[1 0 0 ... 1 0 0]\n"
          ]
        }
      ]
    },
    {
      "cell_type": "code",
      "source": [
        "print(type(testing_y))"
      ],
      "metadata": {
        "colab": {
          "base_uri": "https://localhost:8080/"
        },
        "id": "JJ9ZNOd9BfuV",
        "outputId": "661d0dde-2fe9-45e5-d0dc-6ce187263203"
      },
      "execution_count": 479,
      "outputs": [
        {
          "output_type": "stream",
          "name": "stdout",
          "text": [
            "<class 'numpy.ndarray'>\n"
          ]
        }
      ]
    },
    {
      "cell_type": "code",
      "source": [
        "len(testing_y)"
      ],
      "metadata": {
        "colab": {
          "base_uri": "https://localhost:8080/"
        },
        "id": "WHvoUWcABo8l",
        "outputId": "4fae0c2b-ad30-44f5-b743-9a67d42c84a8"
      },
      "execution_count": 480,
      "outputs": [
        {
          "output_type": "execute_result",
          "data": {
            "text/plain": [
              "25000"
            ]
          },
          "metadata": {},
          "execution_count": 480
        }
      ]
    },
    {
      "cell_type": "code",
      "source": [
        "print(y)"
      ],
      "metadata": {
        "colab": {
          "base_uri": "https://localhost:8080/"
        },
        "id": "MC6Q_ARJ0ZyK",
        "outputId": "96499786-9f13-44fa-a96b-d0ff46ab2809"
      },
      "execution_count": 481,
      "outputs": [
        {
          "output_type": "stream",
          "name": "stdout",
          "text": [
            "[1 0 0 ... 1 0 0]\n"
          ]
        }
      ]
    },
    {
      "cell_type": "code",
      "source": [
        "from sklearn.preprocessing import LabelEncoder\n",
        "le = LabelEncoder()\n",
        "y = le.fit_transform(y)"
      ],
      "metadata": {
        "id": "xupK1n8O2PiK"
      },
      "execution_count": 482,
      "outputs": []
    },
    {
      "cell_type": "code",
      "source": [
        "print(len(y))"
      ],
      "metadata": {
        "colab": {
          "base_uri": "https://localhost:8080/"
        },
        "id": "Dygfbz9z2ajJ",
        "outputId": "0e84846a-239f-4712-ff67-ac6e7f31993d"
      },
      "execution_count": 483,
      "outputs": [
        {
          "output_type": "stream",
          "name": "stdout",
          "text": [
            "25000\n"
          ]
        }
      ]
    },
    {
      "cell_type": "code",
      "source": [
        "print(le.classes_)"
      ],
      "metadata": {
        "colab": {
          "base_uri": "https://localhost:8080/"
        },
        "id": "17OfFBD_2i6J",
        "outputId": "203f75e2-4e2d-4abe-b9cc-a4e78be312d4"
      },
      "execution_count": 484,
      "outputs": [
        {
          "output_type": "stream",
          "name": "stdout",
          "text": [
            "[0 1]\n"
          ]
        }
      ]
    },
    {
      "cell_type": "code",
      "source": [
        "print(len(y))"
      ],
      "metadata": {
        "colab": {
          "base_uri": "https://localhost:8080/"
        },
        "id": "RLzlkDwJyuOk",
        "outputId": "9ea6df13-1c02-4c14-e98e-6cce10dd3a2f"
      },
      "execution_count": 485,
      "outputs": [
        {
          "output_type": "stream",
          "name": "stdout",
          "text": [
            "25000\n"
          ]
        }
      ]
    },
    {
      "cell_type": "code",
      "source": [
        "print(y)"
      ],
      "metadata": {
        "colab": {
          "base_uri": "https://localhost:8080/"
        },
        "id": "VoZvvHIj9ns9",
        "outputId": "866afca6-8151-4445-be26-8c221a879f3e"
      },
      "execution_count": 486,
      "outputs": [
        {
          "output_type": "stream",
          "name": "stdout",
          "text": [
            "[1 0 0 ... 1 0 0]\n"
          ]
        }
      ]
    },
    {
      "cell_type": "code",
      "source": [
        "from sklearn.model_selection import train_test_split\n",
        "X_train, X_test, y_train, y_test = train_test_split(X, testing_y, test_size=0.2, random_state=0)"
      ],
      "metadata": {
        "id": "do94Rq-v_ExH"
      },
      "execution_count": 487,
      "outputs": []
    },
    {
      "cell_type": "code",
      "source": [
        "type(y_train)"
      ],
      "metadata": {
        "colab": {
          "base_uri": "https://localhost:8080/"
        },
        "id": "oYzoNvzYD2O6",
        "outputId": "1cbd4c42-1ac8-48df-8ecb-e986e47f6cdc"
      },
      "execution_count": 488,
      "outputs": [
        {
          "output_type": "execute_result",
          "data": {
            "text/plain": [
              "numpy.ndarray"
            ]
          },
          "metadata": {},
          "execution_count": 488
        }
      ]
    },
    {
      "cell_type": "code",
      "source": [
        "from sklearn.naive_bayes import GaussianNB\n",
        "nb_classifier = GaussianNB()\n",
        "nb_classifier.fit(X_train, y_train.astype('int'))"
      ],
      "metadata": {
        "id": "VLz_YlK3HHh9",
        "colab": {
          "base_uri": "https://localhost:8080/",
          "height": 75
        },
        "outputId": "dbd2abc4-00ac-4990-b4c1-315b5d323795"
      },
      "execution_count": 489,
      "outputs": [
        {
          "output_type": "execute_result",
          "data": {
            "text/plain": [
              "GaussianNB()"
            ],
            "text/html": [
              "<style>#sk-container-id-10 {color: black;background-color: white;}#sk-container-id-10 pre{padding: 0;}#sk-container-id-10 div.sk-toggleable {background-color: white;}#sk-container-id-10 label.sk-toggleable__label {cursor: pointer;display: block;width: 100%;margin-bottom: 0;padding: 0.3em;box-sizing: border-box;text-align: center;}#sk-container-id-10 label.sk-toggleable__label-arrow:before {content: \"▸\";float: left;margin-right: 0.25em;color: #696969;}#sk-container-id-10 label.sk-toggleable__label-arrow:hover:before {color: black;}#sk-container-id-10 div.sk-estimator:hover label.sk-toggleable__label-arrow:before {color: black;}#sk-container-id-10 div.sk-toggleable__content {max-height: 0;max-width: 0;overflow: hidden;text-align: left;background-color: #f0f8ff;}#sk-container-id-10 div.sk-toggleable__content pre {margin: 0.2em;color: black;border-radius: 0.25em;background-color: #f0f8ff;}#sk-container-id-10 input.sk-toggleable__control:checked~div.sk-toggleable__content {max-height: 200px;max-width: 100%;overflow: auto;}#sk-container-id-10 input.sk-toggleable__control:checked~label.sk-toggleable__label-arrow:before {content: \"▾\";}#sk-container-id-10 div.sk-estimator input.sk-toggleable__control:checked~label.sk-toggleable__label {background-color: #d4ebff;}#sk-container-id-10 div.sk-label input.sk-toggleable__control:checked~label.sk-toggleable__label {background-color: #d4ebff;}#sk-container-id-10 input.sk-hidden--visually {border: 0;clip: rect(1px 1px 1px 1px);clip: rect(1px, 1px, 1px, 1px);height: 1px;margin: -1px;overflow: hidden;padding: 0;position: absolute;width: 1px;}#sk-container-id-10 div.sk-estimator {font-family: monospace;background-color: #f0f8ff;border: 1px dotted black;border-radius: 0.25em;box-sizing: border-box;margin-bottom: 0.5em;}#sk-container-id-10 div.sk-estimator:hover {background-color: #d4ebff;}#sk-container-id-10 div.sk-parallel-item::after {content: \"\";width: 100%;border-bottom: 1px solid gray;flex-grow: 1;}#sk-container-id-10 div.sk-label:hover label.sk-toggleable__label {background-color: #d4ebff;}#sk-container-id-10 div.sk-serial::before {content: \"\";position: absolute;border-left: 1px solid gray;box-sizing: border-box;top: 0;bottom: 0;left: 50%;z-index: 0;}#sk-container-id-10 div.sk-serial {display: flex;flex-direction: column;align-items: center;background-color: white;padding-right: 0.2em;padding-left: 0.2em;position: relative;}#sk-container-id-10 div.sk-item {position: relative;z-index: 1;}#sk-container-id-10 div.sk-parallel {display: flex;align-items: stretch;justify-content: center;background-color: white;position: relative;}#sk-container-id-10 div.sk-item::before, #sk-container-id-10 div.sk-parallel-item::before {content: \"\";position: absolute;border-left: 1px solid gray;box-sizing: border-box;top: 0;bottom: 0;left: 50%;z-index: -1;}#sk-container-id-10 div.sk-parallel-item {display: flex;flex-direction: column;z-index: 1;position: relative;background-color: white;}#sk-container-id-10 div.sk-parallel-item:first-child::after {align-self: flex-end;width: 50%;}#sk-container-id-10 div.sk-parallel-item:last-child::after {align-self: flex-start;width: 50%;}#sk-container-id-10 div.sk-parallel-item:only-child::after {width: 0;}#sk-container-id-10 div.sk-dashed-wrapped {border: 1px dashed gray;margin: 0 0.4em 0.5em 0.4em;box-sizing: border-box;padding-bottom: 0.4em;background-color: white;}#sk-container-id-10 div.sk-label label {font-family: monospace;font-weight: bold;display: inline-block;line-height: 1.2em;}#sk-container-id-10 div.sk-label-container {text-align: center;}#sk-container-id-10 div.sk-container {/* jupyter's `normalize.less` sets `[hidden] { display: none; }` but bootstrap.min.css set `[hidden] { display: none !important; }` so we also need the `!important` here to be able to override the default hidden behavior on the sphinx rendered scikit-learn.org. See: https://github.com/scikit-learn/scikit-learn/issues/21755 */display: inline-block !important;position: relative;}#sk-container-id-10 div.sk-text-repr-fallback {display: none;}</style><div id=\"sk-container-id-10\" class=\"sk-top-container\"><div class=\"sk-text-repr-fallback\"><pre>GaussianNB()</pre><b>In a Jupyter environment, please rerun this cell to show the HTML representation or trust the notebook. <br />On GitHub, the HTML representation is unable to render, please try loading this page with nbviewer.org.</b></div><div class=\"sk-container\" hidden><div class=\"sk-item\"><div class=\"sk-estimator sk-toggleable\"><input class=\"sk-toggleable__control sk-hidden--visually\" id=\"sk-estimator-id-10\" type=\"checkbox\" checked><label for=\"sk-estimator-id-10\" class=\"sk-toggleable__label sk-toggleable__label-arrow\">GaussianNB</label><div class=\"sk-toggleable__content\"><pre>GaussianNB()</pre></div></div></div></div></div>"
            ]
          },
          "metadata": {},
          "execution_count": 489
        }
      ]
    },
    {
      "cell_type": "code",
      "source": [
        "from sklearn.tree import DecisionTreeClassifier\n",
        "dt_classifier = DecisionTreeClassifier()\n",
        "dt_classifier.fit(X_train, y_train.astype('int'))"
      ],
      "metadata": {
        "colab": {
          "base_uri": "https://localhost:8080/",
          "height": 75
        },
        "id": "xdcfR1ZwUqQT",
        "outputId": "168a903f-486e-465b-a3a8-5b83c5c04e6e"
      },
      "execution_count": 490,
      "outputs": [
        {
          "output_type": "execute_result",
          "data": {
            "text/plain": [
              "DecisionTreeClassifier()"
            ],
            "text/html": [
              "<style>#sk-container-id-11 {color: black;background-color: white;}#sk-container-id-11 pre{padding: 0;}#sk-container-id-11 div.sk-toggleable {background-color: white;}#sk-container-id-11 label.sk-toggleable__label {cursor: pointer;display: block;width: 100%;margin-bottom: 0;padding: 0.3em;box-sizing: border-box;text-align: center;}#sk-container-id-11 label.sk-toggleable__label-arrow:before {content: \"▸\";float: left;margin-right: 0.25em;color: #696969;}#sk-container-id-11 label.sk-toggleable__label-arrow:hover:before {color: black;}#sk-container-id-11 div.sk-estimator:hover label.sk-toggleable__label-arrow:before {color: black;}#sk-container-id-11 div.sk-toggleable__content {max-height: 0;max-width: 0;overflow: hidden;text-align: left;background-color: #f0f8ff;}#sk-container-id-11 div.sk-toggleable__content pre {margin: 0.2em;color: black;border-radius: 0.25em;background-color: #f0f8ff;}#sk-container-id-11 input.sk-toggleable__control:checked~div.sk-toggleable__content {max-height: 200px;max-width: 100%;overflow: auto;}#sk-container-id-11 input.sk-toggleable__control:checked~label.sk-toggleable__label-arrow:before {content: \"▾\";}#sk-container-id-11 div.sk-estimator input.sk-toggleable__control:checked~label.sk-toggleable__label {background-color: #d4ebff;}#sk-container-id-11 div.sk-label input.sk-toggleable__control:checked~label.sk-toggleable__label {background-color: #d4ebff;}#sk-container-id-11 input.sk-hidden--visually {border: 0;clip: rect(1px 1px 1px 1px);clip: rect(1px, 1px, 1px, 1px);height: 1px;margin: -1px;overflow: hidden;padding: 0;position: absolute;width: 1px;}#sk-container-id-11 div.sk-estimator {font-family: monospace;background-color: #f0f8ff;border: 1px dotted black;border-radius: 0.25em;box-sizing: border-box;margin-bottom: 0.5em;}#sk-container-id-11 div.sk-estimator:hover {background-color: #d4ebff;}#sk-container-id-11 div.sk-parallel-item::after {content: \"\";width: 100%;border-bottom: 1px solid gray;flex-grow: 1;}#sk-container-id-11 div.sk-label:hover label.sk-toggleable__label {background-color: #d4ebff;}#sk-container-id-11 div.sk-serial::before {content: \"\";position: absolute;border-left: 1px solid gray;box-sizing: border-box;top: 0;bottom: 0;left: 50%;z-index: 0;}#sk-container-id-11 div.sk-serial {display: flex;flex-direction: column;align-items: center;background-color: white;padding-right: 0.2em;padding-left: 0.2em;position: relative;}#sk-container-id-11 div.sk-item {position: relative;z-index: 1;}#sk-container-id-11 div.sk-parallel {display: flex;align-items: stretch;justify-content: center;background-color: white;position: relative;}#sk-container-id-11 div.sk-item::before, #sk-container-id-11 div.sk-parallel-item::before {content: \"\";position: absolute;border-left: 1px solid gray;box-sizing: border-box;top: 0;bottom: 0;left: 50%;z-index: -1;}#sk-container-id-11 div.sk-parallel-item {display: flex;flex-direction: column;z-index: 1;position: relative;background-color: white;}#sk-container-id-11 div.sk-parallel-item:first-child::after {align-self: flex-end;width: 50%;}#sk-container-id-11 div.sk-parallel-item:last-child::after {align-self: flex-start;width: 50%;}#sk-container-id-11 div.sk-parallel-item:only-child::after {width: 0;}#sk-container-id-11 div.sk-dashed-wrapped {border: 1px dashed gray;margin: 0 0.4em 0.5em 0.4em;box-sizing: border-box;padding-bottom: 0.4em;background-color: white;}#sk-container-id-11 div.sk-label label {font-family: monospace;font-weight: bold;display: inline-block;line-height: 1.2em;}#sk-container-id-11 div.sk-label-container {text-align: center;}#sk-container-id-11 div.sk-container {/* jupyter's `normalize.less` sets `[hidden] { display: none; }` but bootstrap.min.css set `[hidden] { display: none !important; }` so we also need the `!important` here to be able to override the default hidden behavior on the sphinx rendered scikit-learn.org. See: https://github.com/scikit-learn/scikit-learn/issues/21755 */display: inline-block !important;position: relative;}#sk-container-id-11 div.sk-text-repr-fallback {display: none;}</style><div id=\"sk-container-id-11\" class=\"sk-top-container\"><div class=\"sk-text-repr-fallback\"><pre>DecisionTreeClassifier()</pre><b>In a Jupyter environment, please rerun this cell to show the HTML representation or trust the notebook. <br />On GitHub, the HTML representation is unable to render, please try loading this page with nbviewer.org.</b></div><div class=\"sk-container\" hidden><div class=\"sk-item\"><div class=\"sk-estimator sk-toggleable\"><input class=\"sk-toggleable__control sk-hidden--visually\" id=\"sk-estimator-id-11\" type=\"checkbox\" checked><label for=\"sk-estimator-id-11\" class=\"sk-toggleable__label sk-toggleable__label-arrow\">DecisionTreeClassifier</label><div class=\"sk-toggleable__content\"><pre>DecisionTreeClassifier()</pre></div></div></div></div></div>"
            ]
          },
          "metadata": {},
          "execution_count": 490
        }
      ]
    },
    {
      "cell_type": "code",
      "source": [
        "from sklearn.ensemble import RandomForestClassifier\n",
        "rf_classifier = GaussianNB()\n",
        "rf_classifier.fit(X_train, y_train.astype('int'))"
      ],
      "metadata": {
        "colab": {
          "base_uri": "https://localhost:8080/",
          "height": 75
        },
        "id": "Qg5c6J-ZUqcO",
        "outputId": "db0a3124-3144-4409-ebad-271e1af3267a"
      },
      "execution_count": 491,
      "outputs": [
        {
          "output_type": "execute_result",
          "data": {
            "text/plain": [
              "GaussianNB()"
            ],
            "text/html": [
              "<style>#sk-container-id-12 {color: black;background-color: white;}#sk-container-id-12 pre{padding: 0;}#sk-container-id-12 div.sk-toggleable {background-color: white;}#sk-container-id-12 label.sk-toggleable__label {cursor: pointer;display: block;width: 100%;margin-bottom: 0;padding: 0.3em;box-sizing: border-box;text-align: center;}#sk-container-id-12 label.sk-toggleable__label-arrow:before {content: \"▸\";float: left;margin-right: 0.25em;color: #696969;}#sk-container-id-12 label.sk-toggleable__label-arrow:hover:before {color: black;}#sk-container-id-12 div.sk-estimator:hover label.sk-toggleable__label-arrow:before {color: black;}#sk-container-id-12 div.sk-toggleable__content {max-height: 0;max-width: 0;overflow: hidden;text-align: left;background-color: #f0f8ff;}#sk-container-id-12 div.sk-toggleable__content pre {margin: 0.2em;color: black;border-radius: 0.25em;background-color: #f0f8ff;}#sk-container-id-12 input.sk-toggleable__control:checked~div.sk-toggleable__content {max-height: 200px;max-width: 100%;overflow: auto;}#sk-container-id-12 input.sk-toggleable__control:checked~label.sk-toggleable__label-arrow:before {content: \"▾\";}#sk-container-id-12 div.sk-estimator input.sk-toggleable__control:checked~label.sk-toggleable__label {background-color: #d4ebff;}#sk-container-id-12 div.sk-label input.sk-toggleable__control:checked~label.sk-toggleable__label {background-color: #d4ebff;}#sk-container-id-12 input.sk-hidden--visually {border: 0;clip: rect(1px 1px 1px 1px);clip: rect(1px, 1px, 1px, 1px);height: 1px;margin: -1px;overflow: hidden;padding: 0;position: absolute;width: 1px;}#sk-container-id-12 div.sk-estimator {font-family: monospace;background-color: #f0f8ff;border: 1px dotted black;border-radius: 0.25em;box-sizing: border-box;margin-bottom: 0.5em;}#sk-container-id-12 div.sk-estimator:hover {background-color: #d4ebff;}#sk-container-id-12 div.sk-parallel-item::after {content: \"\";width: 100%;border-bottom: 1px solid gray;flex-grow: 1;}#sk-container-id-12 div.sk-label:hover label.sk-toggleable__label {background-color: #d4ebff;}#sk-container-id-12 div.sk-serial::before {content: \"\";position: absolute;border-left: 1px solid gray;box-sizing: border-box;top: 0;bottom: 0;left: 50%;z-index: 0;}#sk-container-id-12 div.sk-serial {display: flex;flex-direction: column;align-items: center;background-color: white;padding-right: 0.2em;padding-left: 0.2em;position: relative;}#sk-container-id-12 div.sk-item {position: relative;z-index: 1;}#sk-container-id-12 div.sk-parallel {display: flex;align-items: stretch;justify-content: center;background-color: white;position: relative;}#sk-container-id-12 div.sk-item::before, #sk-container-id-12 div.sk-parallel-item::before {content: \"\";position: absolute;border-left: 1px solid gray;box-sizing: border-box;top: 0;bottom: 0;left: 50%;z-index: -1;}#sk-container-id-12 div.sk-parallel-item {display: flex;flex-direction: column;z-index: 1;position: relative;background-color: white;}#sk-container-id-12 div.sk-parallel-item:first-child::after {align-self: flex-end;width: 50%;}#sk-container-id-12 div.sk-parallel-item:last-child::after {align-self: flex-start;width: 50%;}#sk-container-id-12 div.sk-parallel-item:only-child::after {width: 0;}#sk-container-id-12 div.sk-dashed-wrapped {border: 1px dashed gray;margin: 0 0.4em 0.5em 0.4em;box-sizing: border-box;padding-bottom: 0.4em;background-color: white;}#sk-container-id-12 div.sk-label label {font-family: monospace;font-weight: bold;display: inline-block;line-height: 1.2em;}#sk-container-id-12 div.sk-label-container {text-align: center;}#sk-container-id-12 div.sk-container {/* jupyter's `normalize.less` sets `[hidden] { display: none; }` but bootstrap.min.css set `[hidden] { display: none !important; }` so we also need the `!important` here to be able to override the default hidden behavior on the sphinx rendered scikit-learn.org. See: https://github.com/scikit-learn/scikit-learn/issues/21755 */display: inline-block !important;position: relative;}#sk-container-id-12 div.sk-text-repr-fallback {display: none;}</style><div id=\"sk-container-id-12\" class=\"sk-top-container\"><div class=\"sk-text-repr-fallback\"><pre>GaussianNB()</pre><b>In a Jupyter environment, please rerun this cell to show the HTML representation or trust the notebook. <br />On GitHub, the HTML representation is unable to render, please try loading this page with nbviewer.org.</b></div><div class=\"sk-container\" hidden><div class=\"sk-item\"><div class=\"sk-estimator sk-toggleable\"><input class=\"sk-toggleable__control sk-hidden--visually\" id=\"sk-estimator-id-12\" type=\"checkbox\" checked><label for=\"sk-estimator-id-12\" class=\"sk-toggleable__label sk-toggleable__label-arrow\">GaussianNB</label><div class=\"sk-toggleable__content\"><pre>GaussianNB()</pre></div></div></div></div></div>"
            ]
          },
          "metadata": {},
          "execution_count": 491
        }
      ]
    },
    {
      "cell_type": "code",
      "source": [
        "y_pred = nb_classifier.predict(X_test)"
      ],
      "metadata": {
        "id": "U2HMN2Kq22sN"
      },
      "execution_count": 492,
      "outputs": []
    },
    {
      "cell_type": "code",
      "source": [
        "y_pred_dt = dt_classifier.predict(X_test)\n",
        "y_pred_rf = rf_classifier.predict(X_test)"
      ],
      "metadata": {
        "id": "ub-YoOZvHTPL"
      },
      "execution_count": 493,
      "outputs": []
    },
    {
      "cell_type": "code",
      "source": [
        "y_test = y_test.astype('int')"
      ],
      "metadata": {
        "id": "NK005VwdHnxA"
      },
      "execution_count": 496,
      "outputs": []
    },
    {
      "cell_type": "code",
      "source": [
        "from sklearn.metrics import confusion_matrix, accuracy_score, classification_report\n",
        "cm = confusion_matrix(y_test, y_pred)\n",
        "acc = accuracy_score(y_test, y_pred)\n",
        "\n",
        "cm_dt = confusion_matrix(y_test, y_pred_dt)\n",
        "acc_dt = accuracy_score(y_test, y_pred_dt)\n",
        "\n",
        "cm_rf = confusion_matrix(y_test, y_pred_rf)\n",
        "acc_rf = accuracy_score(y_test, y_pred_rf)"
      ],
      "metadata": {
        "id": "1jJN5u09HqD9"
      },
      "execution_count": 497,
      "outputs": []
    },
    {
      "cell_type": "code",
      "source": [
        "print(cm)\n",
        "print(cm_dt)\n",
        "print(cm_rf)"
      ],
      "metadata": {
        "id": "6lA_q6tGH50l",
        "colab": {
          "base_uri": "https://localhost:8080/"
        },
        "outputId": "0af1db77-7d04-4cf7-836d-2cb7ecd9b54c"
      },
      "execution_count": 498,
      "outputs": [
        {
          "output_type": "stream",
          "name": "stdout",
          "text": [
            "[[3002  706]\n",
            " [  84 1208]]\n",
            "[[3665   43]\n",
            " [ 157 1135]]\n",
            "[[3002  706]\n",
            " [  84 1208]]\n"
          ]
        }
      ]
    },
    {
      "cell_type": "code",
      "source": [
        "print(acc)\n",
        "print(acc_dt)\n",
        "print(acc_rf)"
      ],
      "metadata": {
        "id": "cojNySHNH7G6",
        "colab": {
          "base_uri": "https://localhost:8080/"
        },
        "outputId": "d6e5f18d-7c6b-4659-9328-b2b94aa53823"
      },
      "execution_count": 499,
      "outputs": [
        {
          "output_type": "stream",
          "name": "stdout",
          "text": [
            "0.842\n",
            "0.96\n",
            "0.842\n"
          ]
        }
      ]
    },
    {
      "cell_type": "code",
      "source": [
        "target_names = ['phishing', 'benign', 'defacement', 'malware']\n",
        "\n",
        "# For Naive-Bayes\n",
        "print(classification_report(y_test, y_pred))"
      ],
      "metadata": {
        "colab": {
          "base_uri": "https://localhost:8080/"
        },
        "id": "iMUp9_GIpdIr",
        "outputId": "2eba1ae5-b513-4986-9131-bfb5cc127e70"
      },
      "execution_count": 502,
      "outputs": [
        {
          "output_type": "stream",
          "name": "stdout",
          "text": [
            "              precision    recall  f1-score   support\n",
            "\n",
            "           0       0.97      0.81      0.88      3708\n",
            "           1       0.63      0.93      0.75      1292\n",
            "\n",
            "    accuracy                           0.84      5000\n",
            "   macro avg       0.80      0.87      0.82      5000\n",
            "weighted avg       0.88      0.84      0.85      5000\n",
            "\n"
          ]
        }
      ]
    },
    {
      "cell_type": "code",
      "source": [
        "# For Decision Trees\n",
        "print(classification_report(y_test, y_pred_dt))"
      ],
      "metadata": {
        "colab": {
          "base_uri": "https://localhost:8080/"
        },
        "id": "WKfNSkbdqTSc",
        "outputId": "3980737b-1100-4a0b-cec1-432e411f39e3"
      },
      "execution_count": 504,
      "outputs": [
        {
          "output_type": "stream",
          "name": "stdout",
          "text": [
            "              precision    recall  f1-score   support\n",
            "\n",
            "           0       0.96      0.99      0.97      3708\n",
            "           1       0.96      0.88      0.92      1292\n",
            "\n",
            "    accuracy                           0.96      5000\n",
            "   macro avg       0.96      0.93      0.95      5000\n",
            "weighted avg       0.96      0.96      0.96      5000\n",
            "\n"
          ]
        }
      ]
    },
    {
      "cell_type": "code",
      "source": [
        "# For Random Forest\n",
        "print(classification_report(y_test, y_pred_rf))"
      ],
      "metadata": {
        "colab": {
          "base_uri": "https://localhost:8080/"
        },
        "id": "iElKN5JCqZ16",
        "outputId": "b96fa2bb-cb9a-4a07-c044-a2bc42d047bc"
      },
      "execution_count": 505,
      "outputs": [
        {
          "output_type": "stream",
          "name": "stdout",
          "text": [
            "              precision    recall  f1-score   support\n",
            "\n",
            "           0       0.97      0.81      0.88      3708\n",
            "           1       0.63      0.93      0.75      1292\n",
            "\n",
            "    accuracy                           0.84      5000\n",
            "   macro avg       0.80      0.87      0.82      5000\n",
            "weighted avg       0.88      0.84      0.85      5000\n",
            "\n"
          ]
        }
      ]
    },
    {
      "cell_type": "code",
      "source": [
        "import sklearn.metrics as metrics\n",
        "\n",
        "probs_nb = nb_classifier.predict_proba(X_test)\n",
        "preds_nb = probs_nb[:,1]\n",
        "fpr_nb,tpr_nb,threshold = metrics.roc_curve(y_test, preds_nb, pos_label=1)\n",
        "roc_auc_nb = metrics.auc(fpr_nb, tpr_nb)"
      ],
      "metadata": {
        "id": "32tYdrvaqfPa"
      },
      "execution_count": 506,
      "outputs": []
    },
    {
      "cell_type": "code",
      "source": [
        "probs_dt = dt_classifier.predict_proba(X_test)\n",
        "preds_dt = probs_dt[:,1]\n",
        "fpr_dt,tpr_dt,threshold = metrics.roc_curve(y_test, preds_dt, pos_label=1)\n",
        "roc_auc_dt = metrics.auc(fpr_dt, tpr_dt)"
      ],
      "metadata": {
        "id": "qU49S_CfrR_a"
      },
      "execution_count": 507,
      "outputs": []
    },
    {
      "cell_type": "code",
      "source": [
        "probs_rf = rf_classifier.predict_proba(X_test)\n",
        "preds_rf = probs_rf[:,1]\n",
        "fpr_rf,tpr_rf,threshold = metrics.roc_curve(y_test, preds_rf, pos_label=1)\n",
        "roc_auc_rf = metrics.auc(fpr_rf, tpr_rf)"
      ],
      "metadata": {
        "id": "9_YoIIYIrSkp"
      },
      "execution_count": 508,
      "outputs": []
    },
    {
      "cell_type": "code",
      "source": [
        "#plt.title('Stacked Ensemble Classifier vs other Classifiers')\n",
        "plt.plot(fpr_dt, tpr_dt, 'blue', label = 'DT -AUC = %0.2f' % roc_auc_dt)\n",
        "plt.plot(fpr_nb, tpr_nb, 'red', label = 'NB - AUC = %0.2f' % roc_auc_nb)\n",
        "plt.plot(fpr_rf, tpr_rf, 'aquamarine', label = 'RF -AUC = %0.2f' % roc_auc_rf)\n",
        "\n",
        "plt.legend(loc = 'lower right')\n",
        "plt.plot([0, 1], [0, 1],'r--')\n",
        "#plt.xlim([0, 1])\n",
        "#plt.ylim([0, 1])\n",
        "plt.ylabel('True Positive Rate')\n",
        "plt.xlabel('False Positive Rate')\n",
        "\n",
        "plt.gca().spines['right'].set_visible(False)\n",
        "plt.gca().spines['top'].set_visible(False)\n",
        "plt.gca().spines['left'].set_visible(False)\n",
        "plt.gca().spines['bottom'].set_visible(False)\n",
        "plt.gca().set_facecolor(\"white\")\n",
        "plt.grid(color=\"lightgray\", alpha=0.5, zorder=-1)\n",
        "plt.savefig('Malware Models.png', dpi=150, bbox_inches='tight')\n",
        "\n",
        "plt.show()"
      ],
      "metadata": {
        "colab": {
          "base_uri": "https://localhost:8080/",
          "height": 449
        },
        "id": "bX9YgM2Drna-",
        "outputId": "33d78bc8-612d-47ac-9dc7-604b8530f946"
      },
      "execution_count": 511,
      "outputs": [
        {
          "output_type": "display_data",
          "data": {
            "text/plain": [
              "<Figure size 640x480 with 1 Axes>"
            ],
            "image/png": "[encoded data removed]"
          },
          "metadata": {}
        }
      ]
    }
  ]
}